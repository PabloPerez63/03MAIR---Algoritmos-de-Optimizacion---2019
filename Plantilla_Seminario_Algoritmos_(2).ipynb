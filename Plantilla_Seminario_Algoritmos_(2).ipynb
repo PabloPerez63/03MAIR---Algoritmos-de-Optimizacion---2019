{
  "nbformat": 4,
  "nbformat_minor": 0,
  "metadata": {
    "colab": {
      "name": "Plantilla_Seminario_Algoritmos (2).ipynb",
      "provenance": [],
      "collapsed_sections": [],
      "include_colab_link": true
    },
    "kernelspec": {
      "name": "python3",
      "display_name": "Python 3"
    }
  },
  "cells": [
    {
      "cell_type": "markdown",
      "metadata": {
        "id": "view-in-github",
        "colab_type": "text"
      },
      "source": [
        "<a href=\"https://colab.research.google.com/github/PabloPerez63/03MAIR---Algoritmos-de-Optimizacion---2019/blob/master/Plantilla_Seminario_Algoritmos_(2).ipynb\" target=\"_parent\"><img src=\"https://colab.research.google.com/assets/colab-badge.svg\" alt=\"Open In Colab\"/></a>"
      ]
    },
    {
      "cell_type": "markdown",
      "metadata": {
        "id": "hVbXYX-RfPWh",
        "colab_type": "text"
      },
      "source": [
        "# Algoritmos de optimización - Seminario<br>\n",
        "Nombre y Apellidos:   <br>\n",
        "Url: https://github.com/.../03MAIR---Algoritmos-de-Optimizacion---2019/tree/master/SEMINARIO<br>\n",
        "Problema:\n",
        "> 1. Elección de grupos de población homogéneos <br>\n",
        ">2. Organizar los horarios de partidos de La Liga<br>\n",
        ">3. Combinar cifras y operaciones\n",
        "\n",
        "Descripción del problema:(copiar enunciado)\n",
        "\n",
        "\n",
        "(*) La respuesta es obligatoria\n",
        "\n",
        "\n",
        "\n",
        "\n",
        "\n",
        "                                        "
      ]
    },
    {
      "cell_type": "markdown",
      "metadata": {
        "id": "Ozk8QOhkf9E_",
        "colab_type": "text"
      },
      "source": [
        "#### Problema 3. Combinar cifras y operaciones\n",
        "\n",
        "El problema consiste en analizar el siguiente problema y diseñar un algoritmo que lo resuelva.\n",
        "\n",
        "Disponemos de las 9 cifras del 1 al 9 (excluimos el cero) y de los 4 signos básicos de las operaciones fundamentales: suma(+), resta(-), multiplicación(*) y división(/)\n",
        "\n",
        "Debemos combinarlos alternativamente sin repetir ninguno de ellos para obtener una cantidad dada. Un ejemplo sería para obtener el 4:\n",
        "\n",
        "                        4+2-6/3*1 = 4\n",
        "\n",
        "Debe analizarse el problema para encontrar todos los valores enteros posibles planteando las\n",
        "siguientes cuestiones:\n",
        "- ¿Qué valor máximo y mínimo se pueden obtener según las condiciones del problema?\n",
        "- ¿Es posible encontrar todos los valores enteros posibles entre dicho mínimo y máximo ?\n",
        "\n",
        "• Nota: Es posible usar la función de python “eval” para evaluar una expresión:\n"
      ]
    },
    {
      "cell_type": "markdown",
      "metadata": {
        "id": "9LV8jSeOfyXh",
        "colab_type": "text"
      },
      "source": [
        ""
      ]
    },
    {
      "cell_type": "markdown",
      "metadata": {
        "id": "3_-exlrTgLd-",
        "colab_type": "text"
      },
      "source": [
        "(*)¿Cuantas posibilidades hay sin tener en cuenta las restricciones?<br>\n",
        "\n",
        "\n",
        "\n",
        "¿Cuantas posibilidades hay teniendo en cuenta todas las restricciones.\n",
        "\n",
        "\n"
      ]
    },
    {
      "cell_type": "markdown",
      "metadata": {
        "id": "WfCUqJyKhPcw",
        "colab_type": "text"
      },
      "source": [
        "Respuesta"
      ]
    },
    {
      "cell_type": "code",
      "metadata": {
        "id": "iq6Fe32MgpDX",
        "colab_type": "code",
        "outputId": "2c2a4815-889b-4965-e286-4191ff8bb7ce",
        "colab": {
          "base_uri": "https://localhost:8080/",
          "height": 69
        }
      },
      "source": [
        "from math import factorial\n",
        "\n",
        "#Calculo de  el número de combinaciones posibles que se pueden hacer con 9 numeros del 1 al 9 elementos tomando 5 numeros a la vez.\n",
        "\n",
        "print('Total de permutaciones posibles usando los 5 signos es :', factorial(9) // (factorial(5) * factorial(9 - 5)))\n",
        "\n",
        "#Calculo de el número de permutaciones posibles que se pueden hacer usando 5 signos [\"+\",\"-\",\"*\",\"/\"].\n",
        "\n",
        "permuta=([\"+\",\"-\",\"*\",\"/\"])\n",
        "signos = len(permuta)\n",
        "print('Total de permutaciones posibles usando los 5 signos es :', factorial(signos))\n",
        "print('Total de posibilidades que hay sin tener en cuenta las restricciones :', factorial(signos)*factorial(9) // (factorial(5) * factorial(9 - 5)))\n",
        "\n"
      ],
      "execution_count": 0,
      "outputs": [
        {
          "output_type": "stream",
          "text": [
            "Total de permutaciones posibles usando los 5 signos es : 126\n",
            "Total de permutaciones posibles usando los 5 signos es : 24\n",
            "Total de posibilidades que hay sin tener en cuenta las restricciones : 3024\n"
          ],
          "name": "stdout"
        }
      ]
    },
    {
      "cell_type": "code",
      "metadata": {
        "id": "xZGXFmntg1ix",
        "colab_type": "code",
        "colab": {}
      },
      "source": [
        ""
      ],
      "execution_count": 0,
      "outputs": []
    },
    {
      "cell_type": "markdown",
      "metadata": {
        "id": "Gcj_lF5L8jvt",
        "colab_type": "text"
      },
      "source": [
        "¿Cuantas posibilidades hay teniendo en cuenta todas las restricciones."
      ]
    },
    {
      "cell_type": "code",
      "metadata": {
        "id": "ZA3izLLa8lq9",
        "colab_type": "code",
        "outputId": "831991e4-c04b-48a6-9fe8-94e3599d4897",
        "colab": {
          "base_uri": "https://localhost:8080/",
          "height": 35
        }
      },
      "source": [
        "# Rutina para obtener todas las combinaciones de los numeros y signos  \n",
        "\n",
        "from itertools import combinations\n",
        "from itertools import permutations \n",
        "\n",
        "combinaciones_cifras = list((combinations([1,2,3,4,5,6,7,8,9], 5))) # Genera todas la combinaciones posibles de 1-9 en grupos de 5\n",
        "permutaciones_operaciones = list(permutations([\"+\",\"-\",\"*\",\"/\"]))   # Genera todas las permutaciones posibles de operaciones \n",
        "\n",
        "# Rutina para obtener todas las combinaciones aplicando restricciones en los numeros  \n",
        "\n",
        "combinaciones_validas = 0\n",
        "combinaciones = []\n",
        "resultado_valido = []\n",
        "for ci in combinaciones_cifras:\n",
        "  for op in permutaciones_operaciones:\n",
        "    expresion = str(ci[0]) + op[0] + str(ci[1]) + op[1] +str(ci[2]) + op[2] +str(ci[3]) + op[3] +str(ci[4]) \n",
        "    if eval(expresion).is_integer():    # Los valores que no son enteros no son parte de la solucion \n",
        "        combinaciones.append([expresion,eval(expresion)])\n",
        "        combinaciones_validas=combinaciones_validas+1\n",
        "        resultado_valido.append(eval(expresion))\n",
        "        #print(\"Expresion:\" , expresion , \"Valor:\", eval(expresion) ) \n",
        "       \n",
        "print('Total de posibilidades teniendo en cuenta todas las restricciones  :', (combinaciones_validas))\n",
        "       "
      ],
      "execution_count": 22,
      "outputs": [
        {
          "output_type": "stream",
          "text": [
            "Total de posibilidades teniendo en cuenta todas las restricciones  : 124\n"
          ],
          "name": "stdout"
        }
      ]
    },
    {
      "cell_type": "markdown",
      "metadata": {
        "id": "sgnno6GDg2Jf",
        "colab_type": "text"
      },
      "source": [
        ""
      ]
    },
    {
      "cell_type": "markdown",
      "metadata": {
        "id": "dzynfVJahHoY",
        "colab_type": "text"
      },
      "source": [
        "Modelo para el espacio de soluciones<br>\n",
        "(*) ¿Cual es la estructura de datos que mejor se adapta al problema? Argumentalo.(Es posible que hayas elegido una al principio y veas la necesidad de cambiar, arguentalo)\n"
      ]
    },
    {
      "cell_type": "markdown",
      "metadata": {
        "id": "xFIJrOwKi2Ti",
        "colab_type": "text"
      },
      "source": [
        "Respuesta"
      ]
    },
    {
      "cell_type": "markdown",
      "metadata": {
        "id": "MgUbsxXF7MTc",
        "colab_type": "text"
      },
      "source": [
        "La estructura de datos que mejor se adpta al problema es la siguiente:\n",
        "\n",
        "> combinaciones_cifras : Basado en 9 numeros  (1-9) y seleccionar de ellos sin repetir (combinaciones sin repetición) \n",
        "\n",
        "> permutaciones_signos: Usar los 4 signos y generar las combinaciones posibles sin repetir (permutaciones) \n",
        "\n",
        "> Generar la expresion matematica alternando cifras y signos \n",
        "\n",
        "Si el valor de la expresion no es un numero entero no es parte de la solucucion \n"
      ]
    },
    {
      "cell_type": "markdown",
      "metadata": {
        "id": "7Z9U2W7bi-XS",
        "colab_type": "text"
      },
      "source": [
        "Según el modelo para el espacio de soluciones<br>\n",
        "(*)¿Cual es la función objetivo?\n",
        "\n",
        "(*)¿Es un problema de maximización o minimización?\n",
        "\n",
        "(*)¿Cual es el vaor maximo que se puede conseguir? "
      ]
    },
    {
      "cell_type": "markdown",
      "metadata": {
        "id": "hBalWLM7j1_d",
        "colab_type": "text"
      },
      "source": [
        "Respuesta"
      ]
    },
    {
      "cell_type": "markdown",
      "metadata": {
        "id": "NPfzOI1c-pQ8",
        "colab_type": "text"
      },
      "source": [
        "NO hay una funcion objetivo (maximizar o minimizar) lo que se requiere es encontrar una solucion "
      ]
    },
    {
      "cell_type": "code",
      "metadata": {
        "id": "pAwh-lfGAQop",
        "colab_type": "code",
        "colab": {
          "base_uri": "https://localhost:8080/",
          "height": 107
        },
        "outputId": "dc105f81-7be3-415c-9231-17ad6124a229"
      },
      "source": [
        "print ('El valor total de resultados validos es :', (len(resultado_valido)))\n",
        "print ('Los numeros para los que existe una expresion :', (resultado_valido))\n",
        "\n",
        "print('El valor maximo que se puede conseguir es :', max(resultado_valido))\n",
        "print('El valor minimo que se puede conseguir es :', min(resultado_valido))\n"
      ],
      "execution_count": 21,
      "outputs": [
        {
          "output_type": "stream",
          "text": [
            "El valor total de resultados validos es : 124\n",
            "Los numeros para los que existe una expresion : [1.0, 1.0, -3.0, 5.0, -5.0, -2.0, 7.0, 4.0, -1.0, -6.0, -3.0, 3.0, 8.0, 5.0, 1.0, -7.0, -4.0, 1.0, 9.0, 6.0, 1.0, 3.0, 0.0, 4.0, -1.0, 5.0, -2.0, 6.0, -3.0, 5.0, 1.0, 3.0, 0.0, -4.0, 2.0, 6.0, 0.0, 4.0, -3.0, -5.0, 5.0, 7.0, -1.0, 5.0, 1.0, 3.0, 0.0, 4.0, -7.0, -4.0, 9.0, 6.0, 1.0, 3.0, 2.0, 4.0, 1.0, 5.0, 2.0, 4.0, -4.0, 6.0, 1.0, -5.0, 1.0, 7.0, -2.0, -6.0, 4.0, 8.0, -2.0, 4.0, 1.0, 3.0, 0.0, 4.0, -4.0, 6.0, 1.0, 3.0, -5.0, 7.0, -3.0, 7.0, 2.0, -4.0, 2.0, 8.0, -1.0, -5.0, 5.0, 9.0, -1.0, 5.0, 0.0, 2.0, 3.0, 5.0, -1.0, 3.0, 2.0, 6.0, -3.0, 7.0, 0.0, 2.0, 3.0, 5.0, 2.0, 4.0, 1.0, 5.0, -4.0, 8.0, 2.0, 4.0, 1.0, 3.0, 0.0, 4.0, -3.0, 9.0, 1.0, 3.0]\n",
            "El valor maximo que se puede conseguir es : 9.0\n",
            "El valor minimo que se puede conseguir es : -7.0\n"
          ],
          "name": "stdout"
        }
      ]
    },
    {
      "cell_type": "markdown",
      "metadata": {
        "id": "rlnTYgY1j6I2",
        "colab_type": "text"
      },
      "source": [
        "Diseña un algoritmo para resolver el problema por fuerza bruta"
      ]
    },
    {
      "cell_type": "markdown",
      "metadata": {
        "id": "70rDgxYXkC8r",
        "colab_type": "text"
      },
      "source": [
        "Respuesta"
      ]
    },
    {
      "cell_type": "code",
      "metadata": {
        "id": "CJb5sQ0qkENy",
        "colab_type": "code",
        "colab": {
          "base_uri": "https://localhost:8080/",
          "height": 121
        },
        "outputId": "421f834b-cedf-4ccf-f501-308781424f7c"
      },
      "source": [
        "combinaciones.sort(key=lambda x: x[1])\n",
        "n=-7\n",
        "j=1\n",
        "\n",
        "for i in range(len(combinaciones)):\n",
        "    if combinaciones[i][j] == n :\n",
        "      print (combinaciones [i][j])\n",
        "      expresionr= combinaciones[i][0]\n",
        "      print(expresionr) \n",
        "      print(eval(expresionr))"
      ],
      "execution_count": 40,
      "outputs": [
        {
          "output_type": "stream",
          "text": [
            "-7.0\n",
            "1+2*3/6-9\n",
            "-7.0\n",
            "-7.0\n",
            "1+2*4/8-9\n",
            "-7.0\n"
          ],
          "name": "stdout"
        }
      ]
    },
    {
      "cell_type": "markdown",
      "metadata": {
        "id": "tgrnsC2nkFa8",
        "colab_type": "text"
      },
      "source": [
        "Calcula la complejidad del algoritmo por fuerza bruta"
      ]
    },
    {
      "cell_type": "markdown",
      "metadata": {
        "id": "9eUd3xwckP68",
        "colab_type": "text"
      },
      "source": [
        "Respuesta"
      ]
    },
    {
      "cell_type": "code",
      "metadata": {
        "id": "rvZWwL-ckRST",
        "colab_type": "code",
        "colab": {}
      },
      "source": [
        ""
      ],
      "execution_count": 0,
      "outputs": []
    },
    {
      "cell_type": "markdown",
      "metadata": {
        "id": "txbrmLmskReM",
        "colab_type": "text"
      },
      "source": [
        "(*)Diseña un algoritmo que mejore la complejidad del algortimo por fuerza bruta. Argumenta porque crees que mejora el algoritmo por fuerza bruta"
      ]
    },
    {
      "cell_type": "markdown",
      "metadata": {
        "id": "hLrVwt5QkZPD",
        "colab_type": "text"
      },
      "source": [
        "Respuesta"
      ]
    },
    {
      "cell_type": "code",
      "metadata": {
        "id": "m1eyM21Vkabg",
        "colab_type": "code",
        "colab": {}
      },
      "source": [
        ""
      ],
      "execution_count": 0,
      "outputs": []
    },
    {
      "cell_type": "markdown",
      "metadata": {
        "id": "eGDB4K6uk1iN",
        "colab_type": "text"
      },
      "source": [
        "(*)Calcula la complejidad del algoritmo "
      ]
    },
    {
      "cell_type": "markdown",
      "metadata": {
        "id": "NhpTh_BPk1ms",
        "colab_type": "text"
      },
      "source": [
        "Respuesta"
      ]
    },
    {
      "cell_type": "code",
      "metadata": {
        "id": "nREzhkStlCq8",
        "colab_type": "code",
        "colab": {}
      },
      "source": [
        ""
      ],
      "execution_count": 0,
      "outputs": []
    },
    {
      "cell_type": "markdown",
      "metadata": {
        "id": "3M6QjTsSkmYe",
        "colab_type": "text"
      },
      "source": [
        "Según el problema (y tenga sentido), diseña un juego de datos de entrada aleatorios"
      ]
    },
    {
      "cell_type": "markdown",
      "metadata": {
        "id": "Jc3_OlyNkvjZ",
        "colab_type": "text"
      },
      "source": [
        "Respuesta"
      ]
    },
    {
      "cell_type": "code",
      "metadata": {
        "id": "sJ-N2etjkyWc",
        "colab_type": "code",
        "colab": {}
      },
      "source": [
        ""
      ],
      "execution_count": 0,
      "outputs": []
    },
    {
      "cell_type": "markdown",
      "metadata": {
        "id": "zy5ZROmjlGo1",
        "colab_type": "text"
      },
      "source": [
        "Aplica el algoritmo al juego de datos generado"
      ]
    },
    {
      "cell_type": "markdown",
      "metadata": {
        "id": "_Cmj-PVylMsa",
        "colab_type": "text"
      },
      "source": [
        "Respuesta"
      ]
    },
    {
      "cell_type": "code",
      "metadata": {
        "id": "Jkx8GeiYlUz1",
        "colab_type": "code",
        "colab": {}
      },
      "source": [
        ""
      ],
      "execution_count": 0,
      "outputs": []
    },
    {
      "cell_type": "markdown",
      "metadata": {
        "colab_type": "text",
        "id": "eTFWUJQrtGcv"
      },
      "source": [
        "Enumera las referencias que has utilizado(si ha sido necesario) para llevar a cabo el trabajo"
      ]
    },
    {
      "cell_type": "markdown",
      "metadata": {
        "id": "YKQ_mRBttWsP",
        "colab_type": "text"
      },
      "source": [
        "Respuesta"
      ]
    },
    {
      "cell_type": "markdown",
      "metadata": {
        "id": "kAkDPUyRtYyH",
        "colab_type": "text"
      },
      "source": [
        "Describe brevemente las lineas de como crees que es posible avanzar en el estudio del problema. Ten en cuenta incluso posibles variaciones del problema y/o variaciones al alza del tamaño"
      ]
    },
    {
      "cell_type": "markdown",
      "metadata": {
        "id": "IE0uZmo-tZu-",
        "colab_type": "text"
      },
      "source": [
        "Respuesta"
      ]
    }
  ]
}