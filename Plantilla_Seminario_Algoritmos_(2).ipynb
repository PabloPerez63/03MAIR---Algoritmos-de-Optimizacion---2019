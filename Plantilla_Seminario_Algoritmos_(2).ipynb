{
  "nbformat": 4,
  "nbformat_minor": 0,
  "metadata": {
    "colab": {
      "name": "Plantilla_Seminario_Algoritmos (2).ipynb",
      "provenance": [],
      "collapsed_sections": [],
      "include_colab_link": true
    },
    "kernelspec": {
      "name": "python3",
      "display_name": "Python 3"
    }
  },
  "cells": [
    {
      "cell_type": "markdown",
      "metadata": {
        "id": "view-in-github",
        "colab_type": "text"
      },
      "source": [
        "<a href=\"https://colab.research.google.com/github/PabloPerez63/03MAIR---Algoritmos-de-Optimizacion---2019/blob/master/Plantilla_Seminario_Algoritmos_(2).ipynb\" target=\"_parent\"><img src=\"https://colab.research.google.com/assets/colab-badge.svg\" alt=\"Open In Colab\"/></a>"
      ]
    },
    {
      "cell_type": "markdown",
      "metadata": {
        "id": "hVbXYX-RfPWh",
        "colab_type": "text"
      },
      "source": [
        "# Algoritmos de optimización - Seminario<br>\n",
        "Nombre y Apellidos:   <br>\n",
        "Url: https://github.com/.../03MAIR---Algoritmos-de-Optimizacion---2019/tree/master/SEMINARIO<br>\n",
        "Problema:\n",
        "> 1. Elección de grupos de población homogéneos <br>\n",
        ">2. Organizar los horarios de partidos de La Liga<br>\n",
        ">3. Combinar cifras y operaciones\n",
        "\n",
        "Descripción del problema:(copiar enunciado)\n",
        "\n",
        "\n",
        "(*) La respuesta es obligatoria\n",
        "\n",
        "\n",
        "\n",
        "\n",
        "\n",
        "                                        "
      ]
    },
    {
      "cell_type": "markdown",
      "metadata": {
        "id": "Ozk8QOhkf9E_",
        "colab_type": "text"
      },
      "source": [
        "#### Problema 3. Combinar cifras y operaciones\n",
        "\n",
        "El problema consiste en analizar el siguiente problema y diseñar un algoritmo que lo resuelva.\n",
        "\n",
        "Disponemos de las 9 cifras del 1 al 9 (excluimos el cero) y de los 4 signos básicos de las operaciones fundamentales: suma(+), resta(-), multiplicación(*) y división(/)\n",
        "\n",
        "Debemos combinarlos alternativamente sin repetir ninguno de ellos para obtener una cantidad dada. Un ejemplo sería para obtener el 4:\n",
        "\n",
        "                        4+2-6/3*1 = 4\n",
        "\n",
        "Debe analizarse el problema para encontrar todos los valores enteros posibles planteando las\n",
        "siguientes cuestiones:\n",
        "- ¿Qué valor máximo y mínimo se pueden obtener según las condiciones del problema?\n",
        "- ¿Es posible encontrar todos los valores enteros posibles entre dicho mínimo y máximo ?\n",
        "\n",
        "• Nota: Es posible usar la función de python “eval” para evaluar una expresión:\n"
      ]
    },
    {
      "cell_type": "markdown",
      "metadata": {
        "id": "9LV8jSeOfyXh",
        "colab_type": "text"
      },
      "source": [
        ""
      ]
    },
    {
      "cell_type": "markdown",
      "metadata": {
        "id": "3_-exlrTgLd-",
        "colab_type": "text"
      },
      "source": [
        "(*)¿Cuantas posibilidades hay sin tener en cuenta las restricciones?<br>\n",
        "\n",
        "\n",
        "\n",
        "¿Cuantas posibilidades hay teniendo en cuenta todas las restricciones.\n",
        "\n",
        "\n"
      ]
    },
    {
      "cell_type": "markdown",
      "metadata": {
        "id": "WfCUqJyKhPcw",
        "colab_type": "text"
      },
      "source": [
        "Respuesta"
      ]
    },
    {
      "cell_type": "code",
      "metadata": {
        "id": "iq6Fe32MgpDX",
        "colab_type": "code",
        "outputId": "ec30c17d-1b92-469f-a020-dea89b6ee93a",
        "colab": {
          "base_uri": "https://localhost:8080/",
          "height": 69
        }
      },
      "source": [
        "# URL https://github.com/PabloPerez63/03MAIR---Algoritmos-de-Optimizacion---2019/blob/master/Plantilla_Seminario_Algoritmos_(2).ipynb\n",
        "\n",
        "from math import factorial\n",
        "\n",
        "#Calculo de  el número de combinaciones posibles que se pueden hacer con 9 numeros del 1 al 9 elementos tomando 5 numeros a la vez.\n",
        "\n",
        "print('Total de permutaciones posibles usando los 5 signos es :', factorial(9) // (factorial(5) * factorial(9 - 5)))\n",
        "\n",
        "#Calculo de el número de permutaciones posibles que se pueden hacer usando 5 signos [\"+\",\"-\",\"*\",\"/\"].\n",
        "\n",
        "permuta=([\"+\",\"-\",\"*\",\"/\"])\n",
        "signos = len(permuta)\n",
        "print('Total de permutaciones posibles usando los 5 signos es :', factorial(signos))\n",
        "print('Total de posibilidades que hay sin tener en cuenta las restricciones :', factorial(signos)*factorial(9) // (factorial(5) * factorial(9 - 5)))\n",
        "\n"
      ],
      "execution_count": 58,
      "outputs": [
        {
          "output_type": "stream",
          "text": [
            "Total de permutaciones posibles usando los 5 signos es : 126\n",
            "Total de permutaciones posibles usando los 5 signos es : 24\n",
            "Total de posibilidades que hay sin tener en cuenta las restricciones : 3024\n"
          ],
          "name": "stdout"
        }
      ]
    },
    {
      "cell_type": "code",
      "metadata": {
        "id": "xZGXFmntg1ix",
        "colab_type": "code",
        "colab": {}
      },
      "source": [
        ""
      ],
      "execution_count": 0,
      "outputs": []
    },
    {
      "cell_type": "markdown",
      "metadata": {
        "id": "Gcj_lF5L8jvt",
        "colab_type": "text"
      },
      "source": [
        "¿Cuantas posibilidades hay teniendo en cuenta todas las restricciones."
      ]
    },
    {
      "cell_type": "code",
      "metadata": {
        "id": "ZA3izLLa8lq9",
        "colab_type": "code",
        "outputId": "a98b66ed-4642-4937-bd0c-703174c13397",
        "colab": {
          "base_uri": "https://localhost:8080/",
          "height": 1000
        }
      },
      "source": [
        "# Rutina para obtener todas las combinaciones de los numeros y signos  \n",
        "\n",
        "from itertools import combinations\n",
        "from itertools import permutations \n",
        "\n",
        "combinaciones_cifras = list((combinations([1,2,3,4,5,6,7,8,9], 5))) # Genera todas la combinaciones posibles de 1-9 en grupos de 5\n",
        "permutaciones_operaciones = list(permutations([\"+\",\"-\",\"*\",\"/\"]))   # Genera todas las permutaciones posibles de operaciones \n",
        "\n",
        "# Rutina para obtener todas las combinaciones aplicando restricciones en los numeros  \n",
        "\n",
        "combinaciones_validas = 0\n",
        "combinaciones = []\n",
        "resultado_valido = []\n",
        "for ci in combinaciones_cifras:\n",
        "  for op in permutaciones_operaciones:\n",
        "    expresion = str(ci[0]) + op[0] + str(ci[1]) + op[1] +str(ci[2]) + op[2] +str(ci[3]) + op[3] +str(ci[4]) \n",
        "    if eval(expresion).is_integer():    # Los valores que no son enteros no son parte de la solucion \n",
        "        combinaciones.append([expresion,eval(expresion)])\n",
        "        combinaciones_validas=combinaciones_validas+1\n",
        "        resultado_valido.append(eval(expresion))\n",
        "        print(\"Expresion:\" , expresion , \"Valor:\", eval(expresion) ) \n",
        "       \n",
        "print('Total de posibilidades teniendo en cuenta todas las restricciones  :', (combinaciones_validas))\n",
        "       "
      ],
      "execution_count": 59,
      "outputs": [
        {
          "output_type": "stream",
          "text": [
            "Expresion: 1+2-3*4/6 Valor: 1.0\n",
            "Expresion: 1-2+3*4/6 Valor: 1.0\n",
            "Expresion: 1+2-3/4*8 Valor: -3.0\n",
            "Expresion: 1-2+3/4*8 Valor: 5.0\n",
            "Expresion: 1+2*3/6-7 Valor: -5.0\n",
            "Expresion: 1+2/3*6-7 Valor: -2.0\n",
            "Expresion: 1-2*3/6+7 Valor: 7.0\n",
            "Expresion: 1-2/3*6+7 Valor: 4.0\n",
            "Expresion: 1+2-3/6*8 Valor: -1.0\n",
            "Expresion: 1+2*3/6-8 Valor: -6.0\n",
            "Expresion: 1+2/3*6-8 Valor: -3.0\n",
            "Expresion: 1-2+3/6*8 Valor: 3.0\n",
            "Expresion: 1-2*3/6+8 Valor: 8.0\n",
            "Expresion: 1-2/3*6+8 Valor: 5.0\n",
            "Expresion: 1+2-3*6/9 Valor: 1.0\n",
            "Expresion: 1+2*3/6-9 Valor: -7.0\n",
            "Expresion: 1+2/3*6-9 Valor: -4.0\n",
            "Expresion: 1-2+3*6/9 Valor: 1.0\n",
            "Expresion: 1-2*3/6+9 Valor: 9.0\n",
            "Expresion: 1-2/3*6+9 Valor: 6.0\n",
            "Expresion: 1/2*4+5-6 Valor: 1.0\n",
            "Expresion: 1/2*4-5+6 Valor: 3.0\n",
            "Expresion: 1/2*4+5-7 Valor: 0.0\n",
            "Expresion: 1/2*4-5+7 Valor: 4.0\n",
            "Expresion: 1/2*4+5-8 Valor: -1.0\n",
            "Expresion: 1/2*4-5+8 Valor: 5.0\n",
            "Expresion: 1/2*4+5-9 Valor: -2.0\n",
            "Expresion: 1/2*4-5+9 Valor: 6.0\n",
            "Expresion: 1+2/4*6-7 Valor: -3.0\n",
            "Expresion: 1-2/4*6+7 Valor: 5.0\n",
            "Expresion: 1/2*4+6-7 Valor: 1.0\n",
            "Expresion: 1/2*4-6+7 Valor: 3.0\n",
            "Expresion: 1+2-4*6/8 Valor: 0.0\n",
            "Expresion: 1+2/4*6-8 Valor: -4.0\n",
            "Expresion: 1-2+4*6/8 Valor: 2.0\n",
            "Expresion: 1-2/4*6+8 Valor: 6.0\n",
            "Expresion: 1/2*4+6-8 Valor: 0.0\n",
            "Expresion: 1/2*4-6+8 Valor: 4.0\n",
            "Expresion: 1+2-4/6*9 Valor: -3.0\n",
            "Expresion: 1+2/4*6-9 Valor: -5.0\n",
            "Expresion: 1-2+4/6*9 Valor: 5.0\n",
            "Expresion: 1-2/4*6+9 Valor: 7.0\n",
            "Expresion: 1/2*4+6-9 Valor: -1.0\n",
            "Expresion: 1/2*4-6+9 Valor: 5.0\n",
            "Expresion: 1/2*4+7-8 Valor: 1.0\n",
            "Expresion: 1/2*4-7+8 Valor: 3.0\n",
            "Expresion: 1/2*4+7-9 Valor: 0.0\n",
            "Expresion: 1/2*4-7+9 Valor: 4.0\n",
            "Expresion: 1+2*4/8-9 Valor: -7.0\n",
            "Expresion: 1+2/4*8-9 Valor: -4.0\n",
            "Expresion: 1-2*4/8+9 Valor: 9.0\n",
            "Expresion: 1-2/4*8+9 Valor: 6.0\n",
            "Expresion: 1/2*4+8-9 Valor: 1.0\n",
            "Expresion: 1/2*4-8+9 Valor: 3.0\n",
            "Expresion: 1/2*6+7-8 Valor: 2.0\n",
            "Expresion: 1/2*6-7+8 Valor: 4.0\n",
            "Expresion: 1/2*6+7-9 Valor: 1.0\n",
            "Expresion: 1/2*6-7+9 Valor: 5.0\n",
            "Expresion: 1/2*6+8-9 Valor: 2.0\n",
            "Expresion: 1/2*6-8+9 Valor: 4.0\n",
            "Expresion: 1+3*4/6-7 Valor: -4.0\n",
            "Expresion: 1-3*4/6+7 Valor: 6.0\n",
            "Expresion: 1+3-4*6/8 Valor: 1.0\n",
            "Expresion: 1+3*4/6-8 Valor: -5.0\n",
            "Expresion: 1-3+4*6/8 Valor: 1.0\n",
            "Expresion: 1-3*4/6+8 Valor: 7.0\n",
            "Expresion: 1+3-4/6*9 Valor: -2.0\n",
            "Expresion: 1+3*4/6-9 Valor: -6.0\n",
            "Expresion: 1-3+4/6*9 Valor: 4.0\n",
            "Expresion: 1-3*4/6+9 Valor: 8.0\n",
            "Expresion: 1+3/4*8-9 Valor: -2.0\n",
            "Expresion: 1-3/4*8+9 Valor: 4.0\n",
            "Expresion: 1/3*6+7-8 Valor: 1.0\n",
            "Expresion: 1/3*6-7+8 Valor: 3.0\n",
            "Expresion: 1/3*6+7-9 Valor: 0.0\n",
            "Expresion: 1/3*6-7+9 Valor: 4.0\n",
            "Expresion: 1+3/6*8-9 Valor: -4.0\n",
            "Expresion: 1-3/6*8+9 Valor: 6.0\n",
            "Expresion: 1/3*6+8-9 Valor: 1.0\n",
            "Expresion: 1/3*6-8+9 Valor: 3.0\n",
            "Expresion: 1+4*6/8-9 Valor: -5.0\n",
            "Expresion: 1-4*6/8+9 Valor: 7.0\n",
            "Expresion: 2+3*4/6-7 Valor: -3.0\n",
            "Expresion: 2-3*4/6+7 Valor: 7.0\n",
            "Expresion: 2+3-4*6/8 Valor: 2.0\n",
            "Expresion: 2+3*4/6-8 Valor: -4.0\n",
            "Expresion: 2-3+4*6/8 Valor: 2.0\n",
            "Expresion: 2-3*4/6+8 Valor: 8.0\n",
            "Expresion: 2+3-4/6*9 Valor: -1.0\n",
            "Expresion: 2+3*4/6-9 Valor: -5.0\n",
            "Expresion: 2-3+4/6*9 Valor: 5.0\n",
            "Expresion: 2-3*4/6+9 Valor: 9.0\n",
            "Expresion: 2+3/4*8-9 Valor: -1.0\n",
            "Expresion: 2-3/4*8+9 Valor: 5.0\n",
            "Expresion: 2*3/6+7-8 Valor: 0.0\n",
            "Expresion: 2*3/6-7+8 Valor: 2.0\n",
            "Expresion: 2/3*6+7-8 Valor: 3.0\n",
            "Expresion: 2/3*6-7+8 Valor: 5.0\n",
            "Expresion: 2*3/6+7-9 Valor: -1.0\n",
            "Expresion: 2*3/6-7+9 Valor: 3.0\n",
            "Expresion: 2/3*6+7-9 Valor: 2.0\n",
            "Expresion: 2/3*6-7+9 Valor: 6.0\n",
            "Expresion: 2+3/6*8-9 Valor: -3.0\n",
            "Expresion: 2-3/6*8+9 Valor: 7.0\n",
            "Expresion: 2*3/6+8-9 Valor: 0.0\n",
            "Expresion: 2*3/6-8+9 Valor: 2.0\n",
            "Expresion: 2/3*6+8-9 Valor: 3.0\n",
            "Expresion: 2/3*6-8+9 Valor: 5.0\n",
            "Expresion: 2/4*6+7-8 Valor: 2.0\n",
            "Expresion: 2/4*6-7+8 Valor: 4.0\n",
            "Expresion: 2/4*6+7-9 Valor: 1.0\n",
            "Expresion: 2/4*6-7+9 Valor: 5.0\n",
            "Expresion: 2+4*6/8-9 Valor: -4.0\n",
            "Expresion: 2-4*6/8+9 Valor: 8.0\n",
            "Expresion: 2/4*6+8-9 Valor: 2.0\n",
            "Expresion: 2/4*6-8+9 Valor: 4.0\n",
            "Expresion: 3*4/6+7-8 Valor: 1.0\n",
            "Expresion: 3*4/6-7+8 Valor: 3.0\n",
            "Expresion: 3*4/6+7-9 Valor: 0.0\n",
            "Expresion: 3*4/6-7+9 Valor: 4.0\n",
            "Expresion: 3+4*6/8-9 Valor: -3.0\n",
            "Expresion: 3-4*6/8+9 Valor: 9.0\n",
            "Expresion: 3*4/6+8-9 Valor: 1.0\n",
            "Expresion: 3*4/6-8+9 Valor: 3.0\n",
            "Total de posibilidades teniendo en cuenta todas las restricciones  : 124\n"
          ],
          "name": "stdout"
        }
      ]
    },
    {
      "cell_type": "markdown",
      "metadata": {
        "id": "sgnno6GDg2Jf",
        "colab_type": "text"
      },
      "source": [
        ""
      ]
    },
    {
      "cell_type": "markdown",
      "metadata": {
        "id": "dzynfVJahHoY",
        "colab_type": "text"
      },
      "source": [
        "Modelo para el espacio de soluciones<br>\n",
        "(*) ¿Cual es la estructura de datos que mejor se adapta al problema? Argumentalo.(Es posible que hayas elegido una al principio y veas la necesidad de cambiar, arguentalo)\n"
      ]
    },
    {
      "cell_type": "markdown",
      "metadata": {
        "id": "xFIJrOwKi2Ti",
        "colab_type": "text"
      },
      "source": [
        "Respuesta"
      ]
    },
    {
      "cell_type": "markdown",
      "metadata": {
        "id": "MgUbsxXF7MTc",
        "colab_type": "text"
      },
      "source": [
        "La estructura de datos que mejor se adpta al problema es la siguiente:\n",
        "\n",
        "> combinaciones_cifras : Basado en 9 numeros  (1-9) y seleccionar de ellos sin repetir (combinaciones sin repetición) \n",
        "\n",
        "> permutaciones_signos: Usar los 4 signos y generar las combinaciones posibles sin repetir (permutaciones) \n",
        "\n",
        "> Generar la expresion matematica alternando cifras y signos \n",
        "\n",
        "Si el valor de la expresion no es un numero entero no es parte de la solucucion \n"
      ]
    },
    {
      "cell_type": "markdown",
      "metadata": {
        "id": "7Z9U2W7bi-XS",
        "colab_type": "text"
      },
      "source": [
        "Según el modelo para el espacio de soluciones<br>\n",
        "(*)¿Cual es la función objetivo?\n",
        "\n",
        "(*)¿Es un problema de maximización o minimización?\n",
        "\n",
        "(*)¿Cual es el vaor maximo que se puede conseguir? "
      ]
    },
    {
      "cell_type": "markdown",
      "metadata": {
        "id": "hBalWLM7j1_d",
        "colab_type": "text"
      },
      "source": [
        "Respuesta"
      ]
    },
    {
      "cell_type": "markdown",
      "metadata": {
        "id": "NPfzOI1c-pQ8",
        "colab_type": "text"
      },
      "source": [
        "NO hay una funcion objetivo (maximizar o minimizar) lo que se requiere es encontrar una solucion "
      ]
    },
    {
      "cell_type": "code",
      "metadata": {
        "id": "pAwh-lfGAQop",
        "colab_type": "code",
        "colab": {
          "base_uri": "https://localhost:8080/",
          "height": 107
        },
        "outputId": "f8aec141-b998-4abe-e1eb-67c1acd97422"
      },
      "source": [
        "print ('El valor total de resultados validos es :', (len(resultado_valido)))\n",
        "print ('Los numeros para los que existe una expresion :', (resultado_valido))\n",
        "\n",
        "print('El valor maximo que se puede conseguir es :', max(resultado_valido))\n",
        "print('El valor minimo que se puede conseguir es :', min(resultado_valido))\n"
      ],
      "execution_count": 60,
      "outputs": [
        {
          "output_type": "stream",
          "text": [
            "El valor total de resultados validos es : 124\n",
            "Los numeros para los que existe una expresion : [1.0, 1.0, -3.0, 5.0, -5.0, -2.0, 7.0, 4.0, -1.0, -6.0, -3.0, 3.0, 8.0, 5.0, 1.0, -7.0, -4.0, 1.0, 9.0, 6.0, 1.0, 3.0, 0.0, 4.0, -1.0, 5.0, -2.0, 6.0, -3.0, 5.0, 1.0, 3.0, 0.0, -4.0, 2.0, 6.0, 0.0, 4.0, -3.0, -5.0, 5.0, 7.0, -1.0, 5.0, 1.0, 3.0, 0.0, 4.0, -7.0, -4.0, 9.0, 6.0, 1.0, 3.0, 2.0, 4.0, 1.0, 5.0, 2.0, 4.0, -4.0, 6.0, 1.0, -5.0, 1.0, 7.0, -2.0, -6.0, 4.0, 8.0, -2.0, 4.0, 1.0, 3.0, 0.0, 4.0, -4.0, 6.0, 1.0, 3.0, -5.0, 7.0, -3.0, 7.0, 2.0, -4.0, 2.0, 8.0, -1.0, -5.0, 5.0, 9.0, -1.0, 5.0, 0.0, 2.0, 3.0, 5.0, -1.0, 3.0, 2.0, 6.0, -3.0, 7.0, 0.0, 2.0, 3.0, 5.0, 2.0, 4.0, 1.0, 5.0, -4.0, 8.0, 2.0, 4.0, 1.0, 3.0, 0.0, 4.0, -3.0, 9.0, 1.0, 3.0]\n",
            "El valor maximo que se puede conseguir es : 9.0\n",
            "El valor minimo que se puede conseguir es : -7.0\n"
          ],
          "name": "stdout"
        }
      ]
    },
    {
      "cell_type": "markdown",
      "metadata": {
        "id": "rlnTYgY1j6I2",
        "colab_type": "text"
      },
      "source": [
        "Diseña un algoritmo para resolver el problema por fuerza bruta"
      ]
    },
    {
      "cell_type": "markdown",
      "metadata": {
        "id": "70rDgxYXkC8r",
        "colab_type": "text"
      },
      "source": [
        "Respuesta"
      ]
    },
    {
      "cell_type": "code",
      "metadata": {
        "id": "CJb5sQ0qkENy",
        "colab_type": "code",
        "colab": {
          "base_uri": "https://localhost:8080/",
          "height": 69
        },
        "outputId": "a6643c0a-7a43-43a9-d9a6-7a090e3903f3"
      },
      "source": [
        "combinaciones.sort(key=lambda x: x[1])  # Ordena la matriz de combinacion tomando la columna de resultado\n",
        "contador = 0\n",
        "\n",
        "numero1 = int(input(\"Dígite un número: \")) # Solicita el numero para buscar la expresion que lo calcula \n",
        "for i in range(len(combinaciones)):\n",
        "  if combinaciones[i][j] == numero1 and contador == 0:\n",
        "    print('La expresion que cumple con el valor solicitado es:', combinaciones[i][0])\n",
        "    expresionr= combinaciones[i][0]\n",
        "    print(eval(expresionr))\n",
        "    contador = contador + 1 \n"
      ],
      "execution_count": 61,
      "outputs": [
        {
          "output_type": "stream",
          "text": [
            "Dígite un número: 7\n",
            "La expresion que cumple con el valor solicitado es: 1-2*3/6+7\n",
            "7.0\n"
          ],
          "name": "stdout"
        }
      ]
    },
    {
      "cell_type": "markdown",
      "metadata": {
        "id": "tgrnsC2nkFa8",
        "colab_type": "text"
      },
      "source": [
        "Calcula la complejidad del algoritmo por fuerza bruta"
      ]
    },
    {
      "cell_type": "markdown",
      "metadata": {
        "id": "9eUd3xwckP68",
        "colab_type": "text"
      },
      "source": [
        "Respuesta"
      ]
    },
    {
      "cell_type": "markdown",
      "metadata": {
        "id": "BRnsVBESYrIG",
        "colab_type": "text"
      },
      "source": [
        "n = tamaño de la lista\n",
        "2 asignaciones (contador y numero)\n",
        "n asignaciones \n",
        "\n",
        "> Total (n + 2)\n",
        "\n",
        "> Orden lineal O(n)\n"
      ]
    },
    {
      "cell_type": "code",
      "metadata": {
        "id": "rvZWwL-ckRST",
        "colab_type": "code",
        "colab": {}
      },
      "source": [
        ""
      ],
      "execution_count": 0,
      "outputs": []
    },
    {
      "cell_type": "markdown",
      "metadata": {
        "id": "txbrmLmskReM",
        "colab_type": "text"
      },
      "source": [
        "(*)Diseña un algoritmo que mejore la complejidad del algortimo por fuerza bruta. Argumenta porque crees que mejora el algoritmo por fuerza bruta"
      ]
    },
    {
      "cell_type": "markdown",
      "metadata": {
        "id": "hLrVwt5QkZPD",
        "colab_type": "text"
      },
      "source": [
        "Respuesta"
      ]
    },
    {
      "cell_type": "code",
      "metadata": {
        "id": "m1eyM21Vkabg",
        "colab_type": "code",
        "colab": {}
      },
      "source": [
        ""
      ],
      "execution_count": 0,
      "outputs": []
    },
    {
      "cell_type": "markdown",
      "metadata": {
        "id": "eGDB4K6uk1iN",
        "colab_type": "text"
      },
      "source": [
        "(*)Calcula la complejidad del algoritmo "
      ]
    },
    {
      "cell_type": "markdown",
      "metadata": {
        "id": "NhpTh_BPk1ms",
        "colab_type": "text"
      },
      "source": [
        "Respuesta"
      ]
    },
    {
      "cell_type": "code",
      "metadata": {
        "id": "nREzhkStlCq8",
        "colab_type": "code",
        "colab": {}
      },
      "source": [
        ""
      ],
      "execution_count": 0,
      "outputs": []
    },
    {
      "cell_type": "markdown",
      "metadata": {
        "id": "3M6QjTsSkmYe",
        "colab_type": "text"
      },
      "source": [
        "Según el problema (y tenga sentido), diseña un juego de datos de entrada aleatorios"
      ]
    },
    {
      "cell_type": "markdown",
      "metadata": {
        "id": "Jc3_OlyNkvjZ",
        "colab_type": "text"
      },
      "source": [
        "Respuesta"
      ]
    },
    {
      "cell_type": "code",
      "metadata": {
        "id": "sJ-N2etjkyWc",
        "colab_type": "code",
        "colab": {
          "base_uri": "https://localhost:8080/",
          "height": 35
        },
        "outputId": "88d93958-6232-453c-b31a-9774c21c0a6a"
      },
      "source": [
        "cifrasa = list(map(str,list(sample(range(10,100),9)))) # genera la lista de 10 numeros aleatorios \n",
        "cifrasa.sort(reverse=False) #ordena la lista de cifras \n",
        "print (cifrasa)"
      ],
      "execution_count": 62,
      "outputs": [
        {
          "output_type": "stream",
          "text": [
            "['14', '21', '27', '39', '54', '65', '79', '89', '96']\n"
          ],
          "name": "stdout"
        }
      ]
    },
    {
      "cell_type": "markdown",
      "metadata": {
        "id": "zy5ZROmjlGo1",
        "colab_type": "text"
      },
      "source": [
        "Aplica el algoritmo al juego de datos generado"
      ]
    },
    {
      "cell_type": "markdown",
      "metadata": {
        "id": "_Cmj-PVylMsa",
        "colab_type": "text"
      },
      "source": [
        "Respuesta"
      ]
    },
    {
      "cell_type": "code",
      "metadata": {
        "id": "Jkx8GeiYlUz1",
        "colab_type": "code",
        "colab": {
          "base_uri": "https://localhost:8080/",
          "height": 1000
        },
        "outputId": "d44a753b-92c5-4386-ddc5-e9d95ef9b0be"
      },
      "source": [
        "combinaciones_cifrasa = list(combinations(cifrasa, 5))       #Genera todas posibilidades de elegir las 9 cifras de 5 e 5\n",
        "permutaciones_operaciones = list(permutations([\"+\",\"-\",\"*\",\"/\"]))   #  #Genera todas posibilidades de elegir las 4 operaciones de 4 e 4\n",
        "\n",
        "# Rutina para obtener todas las combinaciones aplicando restricciones en los numeros  \n",
        "\n",
        "combinaciones_validas = 0\n",
        "combinaciones = []\n",
        "resultado_valido = []\n",
        "for ci in combinaciones_cifrasa:\n",
        "  for op in permutaciones_operaciones:\n",
        "    expresion = str(ci[0]) + op[0] + str(ci[1]) + op[1] +str(ci[2]) + op[2] +str(ci[3]) + op[3] +str(ci[4]) \n",
        "    if eval(expresion).is_integer():    # Los valores que no son enteros no son parte de la solucion \n",
        "        combinaciones.append([expresion,eval(expresion)])\n",
        "        combinaciones_validas=combinaciones_validas+1\n",
        "        resultado_valido.append(eval(expresion))\n",
        "        print(\"Expresion:\" , expresion , \"Valor:\", eval(expresion) ) \n",
        "       \n",
        "print('Total de posibilidades teniendo en cuenta todas las restricciones  :', (combinaciones_validas))\n",
        "print ('Los numeros para los que existe una expresion :', (resultado_valido))\n",
        "print('El valor maximo que se puede conseguir es :', max(resultado_valido))\n",
        "print('El valor minimo que se puede conseguir es :', min(resultado_valido))\n"
      ],
      "execution_count": 64,
      "outputs": [
        {
          "output_type": "stream",
          "text": [
            "Expresion: 14/21*27+39-54 Valor: 3.0\n",
            "Expresion: 14/21*27-39+54 Valor: 33.0\n",
            "Expresion: 14+21-27/39*65 Valor: -10.0\n",
            "Expresion: 14-21+27/39*65 Valor: 38.0\n",
            "Expresion: 14/21*27+39-65 Valor: -8.0\n",
            "Expresion: 14/21*27-39+65 Valor: 44.0\n",
            "Expresion: 14/21*27+39-79 Valor: -22.0\n",
            "Expresion: 14/21*27-39+79 Valor: 58.0\n",
            "Expresion: 14/21*27+39-89 Valor: -32.0\n",
            "Expresion: 14/21*27-39+89 Valor: 68.0\n",
            "Expresion: 14/21*27+39-96 Valor: -39.0\n",
            "Expresion: 14/21*27-39+96 Valor: 75.0\n",
            "Expresion: 14+21/27*54-65 Valor: -9.0\n",
            "Expresion: 14-21/27*54+65 Valor: 37.0\n",
            "Expresion: 14/21*27+54-65 Valor: 7.0\n",
            "Expresion: 14/21*27-54+65 Valor: 29.0\n",
            "Expresion: 14+21/27*54-79 Valor: -23.0\n",
            "Expresion: 14-21/27*54+79 Valor: 51.0\n",
            "Expresion: 14/21*27+54-79 Valor: -7.0\n",
            "Expresion: 14/21*27-54+79 Valor: 43.0\n",
            "Expresion: 14+21/27*54-89 Valor: -33.0\n",
            "Expresion: 14-21/27*54+89 Valor: 61.0\n",
            "Expresion: 14/21*27+54-89 Valor: -17.0\n",
            "Expresion: 14/21*27-54+89 Valor: 53.0\n",
            "Expresion: 14+21-27/54*96 Valor: -13.0\n",
            "Expresion: 14+21/27*54-96 Valor: -40.0\n",
            "Expresion: 14-21+27/54*96 Valor: 41.0\n",
            "Expresion: 14-21/27*54+96 Valor: 68.0\n",
            "Expresion: 14/21*27+54-96 Valor: -24.0\n",
            "Expresion: 14/21*27-54+96 Valor: 60.0\n",
            "Expresion: 14/21*27+65-79 Valor: 4.0\n",
            "Expresion: 14/21*27-65+79 Valor: 32.0\n",
            "Expresion: 14/21*27+65-89 Valor: -6.0\n",
            "Expresion: 14/21*27-65+89 Valor: 42.0\n",
            "Expresion: 14/21*27+65-96 Valor: -13.0\n",
            "Expresion: 14/21*27-65+96 Valor: 49.0\n",
            "Expresion: 14/21*27+79-89 Valor: 8.0\n",
            "Expresion: 14/21*27-79+89 Valor: 28.0\n",
            "Expresion: 14/21*27+79-96 Valor: 1.0\n",
            "Expresion: 14/21*27-79+96 Valor: 35.0\n",
            "Expresion: 14/21*27+89-96 Valor: 11.0\n",
            "Expresion: 14/21*27-89+96 Valor: 25.0\n",
            "Expresion: 14/21*39+54-65 Valor: 15.0\n",
            "Expresion: 14/21*39-54+65 Valor: 37.0\n",
            "Expresion: 14/21*39+54-79 Valor: 1.0\n",
            "Expresion: 14/21*39-54+79 Valor: 51.0\n",
            "Expresion: 14/21*39+54-89 Valor: -9.0\n",
            "Expresion: 14/21*39-54+89 Valor: 61.0\n",
            "Expresion: 14/21*39+54-96 Valor: -16.0\n",
            "Expresion: 14/21*39-54+96 Valor: 68.0\n",
            "Expresion: 14+21/39*65-79 Valor: -30.0\n",
            "Expresion: 14-21/39*65+79 Valor: 58.0\n",
            "Expresion: 14/21*39+65-79 Valor: 12.0\n",
            "Expresion: 14/21*39-65+79 Valor: 40.0\n",
            "Expresion: 14+21/39*65-89 Valor: -40.0\n",
            "Expresion: 14-21/39*65+89 Valor: 68.0\n",
            "Expresion: 14/21*39+65-89 Valor: 2.0\n",
            "Expresion: 14/21*39-65+89 Valor: 50.0\n",
            "Expresion: 14+21/39*65-96 Valor: -47.0\n",
            "Expresion: 14-21/39*65+96 Valor: 75.0\n",
            "Expresion: 14/21*39+65-96 Valor: -5.0\n",
            "Expresion: 14/21*39-65+96 Valor: 57.0\n",
            "Expresion: 14/21*39+79-89 Valor: 16.0\n",
            "Expresion: 14/21*39-79+89 Valor: 36.0\n",
            "Expresion: 14/21*39+79-96 Valor: 9.0\n",
            "Expresion: 14/21*39-79+96 Valor: 43.0\n",
            "Expresion: 14/21*39+89-96 Valor: 19.0\n",
            "Expresion: 14/21*39-89+96 Valor: 33.0\n",
            "Expresion: 14/21*54+65-79 Valor: 22.0\n",
            "Expresion: 14/21*54-65+79 Valor: 50.0\n",
            "Expresion: 14/21*54+65-89 Valor: 12.0\n",
            "Expresion: 14/21*54-65+89 Valor: 60.0\n",
            "Expresion: 14/21*54+65-96 Valor: 5.0\n",
            "Expresion: 14/21*54-65+96 Valor: 67.0\n",
            "Expresion: 14/21*54+79-89 Valor: 26.0\n",
            "Expresion: 14/21*54-79+89 Valor: 46.0\n",
            "Expresion: 14/21*54+79-96 Valor: 19.0\n",
            "Expresion: 14/21*54-79+96 Valor: 53.0\n",
            "Expresion: 14/21*54+89-96 Valor: 29.0\n",
            "Expresion: 14/21*54-89+96 Valor: 43.0\n",
            "Expresion: 14+27/39*65-79 Valor: -20.0\n",
            "Expresion: 14-27/39*65+79 Valor: 48.0\n",
            "Expresion: 14+27/39*65-89 Valor: -30.0\n",
            "Expresion: 14-27/39*65+89 Valor: 58.0\n",
            "Expresion: 14+27/39*65-96 Valor: -37.0\n",
            "Expresion: 14-27/39*65+96 Valor: 65.0\n",
            "Expresion: 14*27/54+65-79 Valor: -7.0\n",
            "Expresion: 14*27/54-65+79 Valor: 21.0\n",
            "Expresion: 14/27*54+65-79 Valor: 14.0\n",
            "Expresion: 14/27*54-65+79 Valor: 42.0\n",
            "Expresion: 14*27/54+65-89 Valor: -17.0\n",
            "Expresion: 14*27/54-65+89 Valor: 31.0\n",
            "Expresion: 14/27*54+65-89 Valor: 4.0\n",
            "Expresion: 14/27*54-65+89 Valor: 52.0\n",
            "Expresion: 14*27/54+65-96 Valor: -24.0\n",
            "Expresion: 14*27/54-65+96 Valor: 38.0\n",
            "Expresion: 14/27*54+65-96 Valor: -3.0\n",
            "Expresion: 14/27*54-65+96 Valor: 59.0\n",
            "Expresion: 14*27/54+79-89 Valor: -3.0\n",
            "Expresion: 14*27/54-79+89 Valor: 17.0\n",
            "Expresion: 14/27*54+79-89 Valor: 18.0\n",
            "Expresion: 14/27*54-79+89 Valor: 38.0\n",
            "Expresion: 14*27/54+79-96 Valor: -10.0\n",
            "Expresion: 14*27/54-79+96 Valor: 24.0\n",
            "Expresion: 14/27*54+79-96 Valor: 11.0\n",
            "Expresion: 14/27*54-79+96 Valor: 45.0\n",
            "Expresion: 14*27/54+89-96 Valor: 0.0\n",
            "Expresion: 14*27/54-89+96 Valor: 14.0\n",
            "Expresion: 14/27*54+89-96 Valor: 21.0\n",
            "Expresion: 14/27*54-89+96 Valor: 35.0\n",
            "Expresion: 21+27/39*65-79 Valor: -13.0\n",
            "Expresion: 21-27/39*65+79 Valor: 55.0\n",
            "Expresion: 21+27/39*65-89 Valor: -23.0\n",
            "Expresion: 21-27/39*65+89 Valor: 65.0\n",
            "Expresion: 21+27/39*65-96 Valor: -30.0\n",
            "Expresion: 21-27/39*65+96 Valor: 72.0\n",
            "Expresion: 21/27*54+65-79 Valor: 28.0\n",
            "Expresion: 21/27*54-65+79 Valor: 56.0\n",
            "Expresion: 21/27*54+65-89 Valor: 18.0\n",
            "Expresion: 21/27*54-65+89 Valor: 66.0\n",
            "Expresion: 21/27*54+65-96 Valor: 11.0\n",
            "Expresion: 21/27*54-65+96 Valor: 73.0\n",
            "Expresion: 21/27*54+79-89 Valor: 32.0\n",
            "Expresion: 21/27*54-79+89 Valor: 52.0\n",
            "Expresion: 21/27*54+79-96 Valor: 25.0\n",
            "Expresion: 21/27*54-79+96 Valor: 59.0\n",
            "Expresion: 21/27*54+89-96 Valor: 35.0\n",
            "Expresion: 21/27*54-89+96 Valor: 49.0\n",
            "Expresion: 21/39*65+79-89 Valor: 25.0\n",
            "Expresion: 21/39*65-79+89 Valor: 45.0\n",
            "Expresion: 21/39*65+79-96 Valor: 18.0\n",
            "Expresion: 21/39*65-79+96 Valor: 52.0\n",
            "Expresion: 21/39*65+89-96 Valor: 28.0\n",
            "Expresion: 21/39*65-89+96 Valor: 42.0\n",
            "Expresion: 27/39*65+79-89 Valor: 35.0\n",
            "Expresion: 27/39*65-79+89 Valor: 55.0\n",
            "Expresion: 27/39*65+79-96 Valor: 28.0\n",
            "Expresion: 27/39*65-79+96 Valor: 62.0\n",
            "Expresion: 27/39*65+89-96 Valor: 38.0\n",
            "Expresion: 27/39*65-89+96 Valor: 52.0\n",
            "Total de posibilidades teniendo en cuenta todas las restricciones  : 140\n",
            "Los numeros para los que existe una expresion : [3.0, 33.0, -10.0, 38.0, -8.0, 44.0, -22.0, 58.0, -32.0, 68.0, -39.0, 75.0, -9.0, 37.0, 7.0, 29.0, -23.0, 51.0, -7.0, 43.0, -33.0, 61.0, -17.0, 53.0, -13.0, -40.0, 41.0, 68.0, -24.0, 60.0, 4.0, 32.0, -6.0, 42.0, -13.0, 49.0, 8.0, 28.0, 1.0, 35.0, 11.0, 25.0, 15.0, 37.0, 1.0, 51.0, -9.0, 61.0, -16.0, 68.0, -30.0, 58.0, 12.0, 40.0, -40.0, 68.0, 2.0, 50.0, -47.0, 75.0, -5.0, 57.0, 16.0, 36.0, 9.0, 43.0, 19.0, 33.0, 22.0, 50.0, 12.0, 60.0, 5.0, 67.0, 26.0, 46.0, 19.0, 53.0, 29.0, 43.0, -20.0, 48.0, -30.0, 58.0, -37.0, 65.0, -7.0, 21.0, 14.0, 42.0, -17.0, 31.0, 4.0, 52.0, -24.0, 38.0, -3.0, 59.0, -3.0, 17.0, 18.0, 38.0, -10.0, 24.0, 11.0, 45.0, 0.0, 14.0, 21.0, 35.0, -13.0, 55.0, -23.0, 65.0, -30.0, 72.0, 28.0, 56.0, 18.0, 66.0, 11.0, 73.0, 32.0, 52.0, 25.0, 59.0, 35.0, 49.0, 25.0, 45.0, 18.0, 52.0, 28.0, 42.0, 35.0, 55.0, 28.0, 62.0, 38.0, 52.0]\n",
            "El valor maximo que se puede conseguir es : 75.0\n",
            "El valor minimo que se puede conseguir es : -47.0\n"
          ],
          "name": "stdout"
        }
      ]
    },
    {
      "cell_type": "code",
      "metadata": {
        "id": "O4XE9UUfoj5L",
        "colab_type": "code",
        "colab": {
          "base_uri": "https://localhost:8080/",
          "height": 69
        },
        "outputId": "b570603b-1a3b-474e-e653-f4f13aa46c1f"
      },
      "source": [
        "combinaciones.sort(key=lambda x: x[1])  # Ordena la matriz de combinacion tomando la columna de resultado\n",
        "contador = 0\n",
        "\n",
        "numero1 = int(input(\"Dígite un número: \")) # Solicita el numero para buscar la expresion que lo calcula \n",
        "for i in range(len(combinaciones)):\n",
        "  if combinaciones[i][j] == numero1 and contador == 0:\n",
        "    print('La expresion que cumple con el valor solicitado es:', combinaciones[i][0])\n",
        "    expresionr= combinaciones[i][0]\n",
        "    print(eval(expresionr))\n",
        "    contador = contador + 1 "
      ],
      "execution_count": 65,
      "outputs": [
        {
          "output_type": "stream",
          "text": [
            "Dígite un número: -39\n",
            "La expresion que cumple con el valor solicitado es: 14/21*27+39-96\n",
            "-39.0\n"
          ],
          "name": "stdout"
        }
      ]
    },
    {
      "cell_type": "markdown",
      "metadata": {
        "colab_type": "text",
        "id": "eTFWUJQrtGcv"
      },
      "source": [
        "Enumera las referencias que has utilizado(si ha sido necesario) para llevar a cabo el trabajo"
      ]
    },
    {
      "cell_type": "markdown",
      "metadata": {
        "id": "YKQ_mRBttWsP",
        "colab_type": "text"
      },
      "source": [
        "Modelado mediante optimizacion combinatoria \n",
        "http://personales.upv.es/jpgarcia/LinkedDocuments/MCOIOptimizacionCombinatoria.pdf"
      ]
    },
    {
      "cell_type": "markdown",
      "metadata": {
        "id": "kAkDPUyRtYyH",
        "colab_type": "text"
      },
      "source": [
        "Describe brevemente las lineas de como crees que es posible avanzar en el estudio del problema. Ten en cuenta incluso posibles variaciones del problema y/o variaciones al alza del tamaño"
      ]
    },
    {
      "cell_type": "markdown",
      "metadata": {
        "id": "IE0uZmo-tZu-",
        "colab_type": "text"
      },
      "source": [
        "Respuesta"
      ]
    }
  ]
}