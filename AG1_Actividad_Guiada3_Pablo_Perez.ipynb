{
  "nbformat": 4,
  "nbformat_minor": 0,
  "metadata": {
    "colab": {
      "name": "AG1-Actividad Guiada3 Pablo Perez.ipynb",
      "version": "0.3.2",
      "provenance": [],
      "collapsed_sections": [],
      "include_colab_link": true
    },
    "kernelspec": {
      "name": "python3",
      "display_name": "Python 3"
    }
  },
  "cells": [
    {
      "cell_type": "markdown",
      "metadata": {
        "id": "view-in-github",
        "colab_type": "text"
      },
      "source": [
        "<a href=\"https://colab.research.google.com/github/PabloPerez63/03MAIR---Algoritmos-de-Optimizacion---2019/blob/master/AG1_Actividad_Guiada3_Pablo_Perez.ipynb\" target=\"_parent\"><img src=\"https://colab.research.google.com/assets/colab-badge.svg\" alt=\"Open In Colab\"/></a>"
      ]
    },
    {
      "cell_type": "code",
      "metadata": {
        "id": "vV_yV-d4PojH",
        "colab_type": "code",
        "colab": {}
      },
      "source": [
        "# AG3 - Actividad Guiada (Correccion)\n",
        "# Pablo Perez \n",
        "# https://colab.research.google.com/drive/1I51bgdbzigprPvsA1LpiXS5Z4me6y7-I\n",
        "# https://colab.research.google.com/drive/1I51bgdbzigprPvsA1LpiXS5Z4me6y7-I"
      ],
      "execution_count": 0,
      "outputs": []
    },
    {
      "cell_type": "markdown",
      "metadata": {
        "id": "VnzKLOGMW6II",
        "colab_type": "text"
      },
      "source": [
        ""
      ]
    },
    {
      "cell_type": "code",
      "metadata": {
        "id": "aC-I59owW73O",
        "colab_type": "code",
        "outputId": "1d78c245-5e45-4c81-f373-370b41a5065a",
        "colab": {
          "base_uri": "https://localhost:8080/",
          "height": 121
        }
      },
      "source": [
        "!pip install request\n"
      ],
      "execution_count": 12,
      "outputs": [
        {
          "output_type": "stream",
          "text": [
            "Requirement already satisfied: request in /usr/local/lib/python3.6/dist-packages (2019.4.13)\n",
            "Requirement already satisfied: get in /usr/local/lib/python3.6/dist-packages (from request) (2019.4.13)\n",
            "Requirement already satisfied: post in /usr/local/lib/python3.6/dist-packages (from request) (2019.4.13)\n",
            "Requirement already satisfied: setuptools in /usr/local/lib/python3.6/dist-packages (from request) (41.2.0)\n",
            "Requirement already satisfied: query-string in /usr/local/lib/python3.6/dist-packages (from get->request) (2019.4.13)\n",
            "Requirement already satisfied: public in /usr/local/lib/python3.6/dist-packages (from query-string->get->request) (2019.4.13)\n"
          ],
          "name": "stdout"
        }
      ]
    },
    {
      "cell_type": "code",
      "metadata": {
        "id": "79FLq4dSXcfW",
        "colab_type": "code",
        "outputId": "73dee157-5322-4107-da68-9e51156398df",
        "colab": {
          "base_uri": "https://localhost:8080/",
          "height": 35
        }
      },
      "source": [
        "import urllib.request\n",
        "\n",
        "file= \"swiss42.tsp\"\n",
        "urllib.request.urlretrieve(\"http://elib.zib.de/pub/mp-testdata/tsp/tsplib/tsp/swiss42.tsp\",file) \n",
        "\n",
        "#42 cities Switzerland (Fricker) en formato matriz\n",
        "#http://elib.zib.de/pub/mp-testdata/tsp/tsplib/tsp/swiss42.tsp\n",
        "\n",
        "#48 capital of the US (Padberg/Rinaldi) en formato de coordenadas\n",
        "#http://elib.zib.de/pub/mp-testdata/tsp/tsplib/tsp/att48.tsp"
      ],
      "execution_count": 15,
      "outputs": [
        {
          "output_type": "execute_result",
          "data": {
            "text/plain": [
              "('swiss42.tsp', <http.client.HTTPMessage at 0x7f2a93fe26a0>)"
            ]
          },
          "metadata": {
            "tags": []
          },
          "execution_count": 15
        }
      ]
    },
    {
      "cell_type": "code",
      "metadata": {
        "id": "OCL2-TD5YQ5M",
        "colab_type": "code",
        "outputId": "80e7b6ac-f1db-4b36-9f85-d4bcaf195395",
        "colab": {
          "base_uri": "https://localhost:8080/",
          "height": 87
        }
      },
      "source": [
        "#http//tsplib95.readthedocs.io/installation.html\n",
        "!pip install tsplib95\n"
      ],
      "execution_count": 16,
      "outputs": [
        {
          "output_type": "stream",
          "text": [
            "Requirement already satisfied: tsplib95 in /usr/local/lib/python3.6/dist-packages (0.3.3)\n",
            "Requirement already satisfied: networkx==2.1 in /usr/local/lib/python3.6/dist-packages (from tsplib95) (2.1)\n",
            "Requirement already satisfied: Click>=6.0 in /usr/local/lib/python3.6/dist-packages (from tsplib95) (7.0)\n",
            "Requirement already satisfied: decorator>=4.1.0 in /usr/local/lib/python3.6/dist-packages (from networkx==2.1->tsplib95) (4.4.0)\n"
          ],
          "name": "stdout"
        }
      ]
    },
    {
      "cell_type": "code",
      "metadata": {
        "id": "EI5m-6P7o8AI",
        "colab_type": "code",
        "colab": {}
      },
      "source": [
        ""
      ],
      "execution_count": 0,
      "outputs": []
    },
    {
      "cell_type": "code",
      "metadata": {
        "id": "yIrqeZEsoYOv",
        "colab_type": "code",
        "colab": {}
      },
      "source": [
        "import tsplib95\n",
        "import random\n",
        "from math import e \n",
        " "
      ],
      "execution_count": 0,
      "outputs": []
    },
    {
      "cell_type": "code",
      "metadata": {
        "id": "J7EXq7papF5m",
        "colab_type": "code",
        "outputId": "964a819b-1152-44f6-b9ab-b396f6a9cf85",
        "colab": {
          "base_uri": "https://localhost:8080/",
          "height": 35
        }
      },
      "source": [
        "problem = tsplib95.load_problem(file)\n",
        "\n",
        "# Nodos\n",
        "Nodos = list(problem.get_nodes())\n",
        "\n",
        "# Aristas\n",
        "\n",
        "Aristas= list(problem.get_edges())\n",
        "\n",
        "#list(problem.get_nodes())\n",
        "#list(problem.get_edges())\n",
        "\n",
        "problem.wfunc(0,3)"
      ],
      "execution_count": 31,
      "outputs": [
        {
          "output_type": "execute_result",
          "data": {
            "text/plain": [
              "23"
            ]
          },
          "metadata": {
            "tags": []
          },
          "execution_count": 31
        }
      ]
    },
    {
      "cell_type": "code",
      "metadata": {
        "id": "pTshJd2vq5iq",
        "colab_type": "code",
        "colab": {}
      },
      "source": [
        "#Se genera una solucion aleatoria con comienzo en el nodo 0\n",
        "\n",
        "def crear_solucion(Nodos):\n",
        "  solucion = [0]\n",
        "  for i in range(len(Nodos)-1):\n",
        "    solucion = solucion + [random.choice(list(set(Nodos) - set({0}) - set(solucion)))]\n",
        "  return solucion  \n",
        "\n",
        "# Devuelve la distancia entre dos nodos \n",
        "\n",
        "def distancia(a,b,problem):\n",
        "   return problem.wfunc(a,b)\n",
        "\n",
        "# Devuelve la distancia total de una trayectoria/solucion\n",
        "def distancia_total(solucion,problem):\n",
        "  distancia_total =0\n",
        "  for i in range (len(solucion)-1):\n",
        "    distancia_total += distancia(solucion[i],solucion[i+1],problem)\n",
        "    return distancia_total + distancia(solucion[len(solucion)-1], solucion[0], problem)\n",
        "\n",
        "#crear_solucion(Nodos)\n",
        "\n",
        "\n"
      ],
      "execution_count": 0,
      "outputs": []
    },
    {
      "cell_type": "code",
      "metadata": {
        "id": "G4nbgJsG_apR",
        "colab_type": "code",
        "colab": {}
      },
      "source": [
        "def busqueda_aleatoria(problem,N):\n",
        "  # problem = datos del problema \n",
        "  #N = Numero de iteracciones \n",
        "\n",
        "  # Nodos   \n",
        "  Nodos = list(problem.get_nodes())\n",
        "\n",
        "  mejor_solucion =[]\n",
        "  mejor_distancia = 10e100\n",
        "\n",
        "  for i in range (N):\n",
        "    solucion = crear_solucion(Nodos)\n",
        "    distancia_solucion  = distancia_total(solucion, problem)\n",
        "    if distancia_solucion < mejor_distancia:\n",
        "      mejor_solucion = solucion \n",
        "      mejor_distancia = distancia_solucion\n",
        "    \n",
        "  print(\"La mejor solucion encontrada es \", end=\"\")\n",
        "  print(solucion)\n",
        "  print(\"Con una distancia total de \", end=\"\")\n",
        "  print(mejor_distancia)\n",
        "  return mejor_solucion\n",
        "\n",
        "# busqueda_aleatoria(problem,5000)"
      ],
      "execution_count": 0,
      "outputs": []
    },
    {
      "cell_type": "code",
      "metadata": {
        "id": "6jqIb43_KMBF",
        "colab_type": "code",
        "colab": {}
      },
      "source": [
        "def genera_vecina(solucion):\n",
        "  # Generador de soluciones vecina 2 -opt (intercambiar dos nodos) Si hay nodos de genera (N-1)x (N-2)/2 soluciones \n",
        "  # print(solucion) \n",
        "  mejor_solucion =[]\n",
        "  mejor_distancia = 10e100\n",
        "  for i in range (1,len(solucion)-1):\n",
        "    for j in range (i+1,len(solucion)): \n",
        "      vecina= solucion[:i] + [solucion[j]] + solucion[i+1:j] + [solucion[i]] +solucion [j+1:]\n",
        "      distancia_vecina  = distancia_total(vecina, problem)\n",
        "      if distancia_vecina <= mejor_distancia:\n",
        "        mejor_distancia = distancia_vecina\n",
        "        mejor_solucion =  vecina\n",
        "  return mejor_solucion\n",
        "\n",
        "#busqueda_aleatoria(problem,5000)"
      ],
      "execution_count": 0,
      "outputs": []
    },
    {
      "cell_type": "code",
      "metadata": {
        "id": "lVRAU-3ERPV1",
        "colab_type": "code",
        "outputId": "1d206156-bb03-4030-ef77-083fff5197d4",
        "colab": {
          "base_uri": "https://localhost:8080/",
          "height": 72
        }
      },
      "source": [
        "def busqueda_local(problem,N):\n",
        "  # problems= datos del problema \n",
        "  # N = Numero de iteraciones\n",
        "  \n",
        "  mejor_solucion =[]\n",
        "  mejor_distancia = 10e100\n",
        "  \n",
        "  solucion_referencia = crear_solucion(Nodos)\n",
        "  \n",
        "  for i in range (N):\n",
        "    vecina= genera_vecina(solucion_referencia)\n",
        "    distancia_vecina  = distancia_total(vecina,problem)\n",
        "    if distancia_vecina <= mejor_distancia: \n",
        "      mejor_solucion =  vecina\n",
        "      mejor_distancia = distancia_vecina \n",
        "      \n",
        "      \n",
        "    solucion_referencia = vecina\n",
        "  \n",
        "    print(\" La mejor solucion encontrada es \", end=\"\")\n",
        "    print(mejor_solucion)\n",
        "    print(\" con una distancia total de \", end=\"\")\n",
        "    print(mejor_distancia)\n",
        "    return mejor_solucion\n",
        "\n",
        "sol =busqueda_local(problem,100)\n"
      ],
      "execution_count": 29,
      "outputs": [
        {
          "output_type": "stream",
          "text": [
            " La mejor solucion encontrada es [0, 1, 13, 21, 25, 34, 20, 40, 27, 39, 16, 38, 28, 8, 10, 19, 22, 3, 41, 12, 31, 15, 30, 14, 24, 32, 23, 29, 9, 11, 37, 7, 33, 36, 35, 5, 26, 18, 2, 17, 4, 6]\n",
            " con una distancia total de 48\n"
          ],
          "name": "stdout"
        }
      ]
    },
    {
      "cell_type": "code",
      "metadata": {
        "id": "G3Xkyo0WbYMO",
        "colab_type": "code",
        "colab": {}
      },
      "source": [
        "#Funcion de probabilidad para aceptar peores soluciones \n",
        "\n",
        "def probabilidad(T,d):\n",
        "  r=random.random();\n",
        "  if r < math.exp((-1*d)/T):\n",
        "    return True\n",
        "  else:\n",
        "    return False \n",
        "\n",
        "# Funcion descenso de temperatura\n",
        "\n",
        "def bajar_temperatura(T):\n",
        "  return T*0.999\n",
        "\n",
        "def genera_vecina_aleatorio(solucion):\n",
        "  # Generador de 1 solucion vecina 2-opt aleatoria (intercambiar 2 nodos)\n",
        "  \n",
        "  # Se eligen dos nodos aleatoriamente \n",
        "\n",
        "  i,j = sorted(random.sample(range(1,len(solucion)),2))\n",
        "  \n",
        "  return solucion[:1] + [solucion[j]] + solucion[i+1:j] + [solucion[i]] + solucion[j+1:]\n",
        "  \n"
      ],
      "execution_count": 0,
      "outputs": []
    },
    {
      "cell_type": "code",
      "metadata": {
        "id": "Zpr913KDDBfh",
        "colab_type": "code",
        "colab": {}
      },
      "source": [
        "def recocido_simulado(problem, TEMPERATURA ):\n",
        "  #problem=datos del problema\n",
        "  #T = Temperatura \n",
        "  \n",
        "  solucion_referencia = crear_solucion(Nodos)\n",
        "  \n",
        "  distancia_referencia  = distancia_total(solución_referencia, problem)\n",
        "  \n",
        "  mejor_solucion =[]\n",
        "  mejor_distancia = 10e100\n",
        "  \n",
        "  "
      ],
      "execution_count": 0,
      "outputs": []
    },
    {
      "cell_type": "code",
      "metadata": {
        "id": "jPslF37MD0ZT",
        "colab_type": "code",
        "colab": {
          "base_uri": "https://localhost:8080/",
          "height": 131
        },
        "outputId": "adfe4848-50d1-445f-8349-373291926297"
      },
      "source": [
        "while TEMPERATURA > .01:\n",
        "    #print(\"#Temperatura:\"), TEMPERATURA, \"Fitness:\", mejor_distancia )\n",
        "    # Genera una solucion vecina\n",
        "    # vecina=gerera_vecina(solucion_referencia) \n",
        "    vecina= genera_vecina_aleatorio(solucion_referencia)\n",
        "    \n",
        "    #Calcula su valor(distancia)\n",
        "    distancia_vecina  = distancia_total(vecina,problem)\n",
        "\n",
        "    #Si es la mejor solucion de todas la guarda\n",
        "    if distancia_vecina < mejor_distancia: \n",
        "        mejor_solucion =  vecina\n",
        "        mejor_distancia = distancia_vecina \n",
        "   \n",
        "  #Si la nueva vecina es mejor se cambia y si es peor segun la probabilidad dependiente de Ty de distancia_referencia  \n",
        "    \n",
        "    if distancia_vecina < distancia_referencia or probabilidad(TEMPERATURA, abs(distancia_referencia - distancia_vecina)) :\n",
        "      print(\"Distancias:\", distancia_referencia, distancia_vecina)\n",
        "      solucion_referencia= copy.deepcopy(vecina)\n",
        "      distancia_referencia=distancia_vecina\n",
        "      \n",
        "    \n",
        "    TEMPERATURA=bajar_temperatura(TEMPERATURA)  \n",
        "\n",
        "return mejor_solucion  \n",
        "\n",
        "\n",
        "  \n",
        " \n",
        "    \n",
        "#recocido_simulado(problem, 1000)"
      ],
      "execution_count": 64,
      "outputs": [
        {
          "output_type": "error",
          "ename": "SyntaxError",
          "evalue": "ignored",
          "traceback": [
            "\u001b[0;36m  File \u001b[0;32m\"<ipython-input-64-45880302d0bd>\"\u001b[0;36m, line \u001b[0;32m25\u001b[0m\n\u001b[0;31m    return mejor_solucion\u001b[0m\n\u001b[0m                           ^\u001b[0m\n\u001b[0;31mSyntaxError\u001b[0m\u001b[0;31m:\u001b[0m 'return' outside function\n"
          ]
        }
      ]
    },
    {
      "cell_type": "code",
      "metadata": {
        "id": "6bzpoO4JNQzw",
        "colab_type": "code",
        "colab": {
          "base_uri": "https://localhost:8080/",
          "height": 235
        },
        "outputId": "14555d68-2480-4b66-c277-2b6db21f75ce"
      },
      "source": [
        "def hormigas(problem, N) :\n",
        "  #problem=datos del problema\n",
        "  #N=Numero de agentes (hormigas)\n",
        "  \n",
        "  #Nodos\n",
        "  Nodos= list(problem.get_nodes())\n",
        "  \n",
        "  #Aristas\n",
        "  Aristas = list(problem.get_edge())\n",
        "\n",
        "  # Inicializa las aristas con la cantidad inicial de feromonas:1\n",
        "  # Mejora: iniciar con valores diferente dependiendo de diferentes criterios\n",
        "  T= [[ 1 for _ in range(len(Nodos)) ] for _ in range(len(Nodos))]\n",
        "\n",
        "  \n",
        "  # Se generan los agentes (hormigas) que seran estructuras de caminos desde 0\n",
        "  Hormiga = [[0] for _ in range(N)]\n",
        "  \n",
        "  #Recorre cada agente construyendo la solucion \n",
        "  for h in range(N) :\n",
        "    # Para cada agente se construye un camino\n",
        "    for i in range(len(Nodos)-1) :\n",
        "      \n",
        "      #Elige el siguente nodo \n",
        "      Nuevo_nodo = Add_Nodo(problem, Hormiga[h] ,T)\n",
        "      Hormiga[h].append(Nuevo_Nodo)\n",
        "      \n",
        "    #Incrementa feromonas en esa arista \n",
        "    T= Incrementa_Feromona(problem, T, Hormiga[h] )\n",
        "    # print (\"Feromonas(1)\", T)\n",
        "      \n",
        "    # Evapora feromonas \n",
        "    T= Evaporar_Feromonas(T)\n",
        "    # print (\"Feromonas(2)\", T)\n",
        "  \n",
        "    #Seleccionamos el mejor agente\n",
        "    \n",
        "mejor_solucion = []\n",
        "mejor_distancia = 10e100\n",
        "  \n",
        "for h in range (N):\n",
        "  distancia_actual = distancia_total(Hormigas[h],problem) \n",
        "  if distancia_actual < mejor_distancia:\n",
        "    mejor_solucion = Hormiga[h]\n",
        "    mejor_distancia= distancia_actual\n",
        "    "
      ],
      "execution_count": 79,
      "outputs": [
        {
          "output_type": "error",
          "ename": "NameError",
          "evalue": "ignored",
          "traceback": [
            "\u001b[0;31m---------------------------------------------------------------------------\u001b[0m",
            "\u001b[0;31mNameError\u001b[0m                                 Traceback (most recent call last)",
            "\u001b[0;32m<ipython-input-79-bc737575b518>\u001b[0m in \u001b[0;36m<module>\u001b[0;34m()\u001b[0m\n\u001b[1;32m     39\u001b[0m \u001b[0mmejor_distancia\u001b[0m \u001b[0;34m=\u001b[0m \u001b[0;36m10e100\u001b[0m\u001b[0;34m\u001b[0m\u001b[0;34m\u001b[0m\u001b[0m\n\u001b[1;32m     40\u001b[0m \u001b[0;34m\u001b[0m\u001b[0m\n\u001b[0;32m---> 41\u001b[0;31m \u001b[0;32mfor\u001b[0m \u001b[0mh\u001b[0m \u001b[0;32min\u001b[0m \u001b[0mrange\u001b[0m \u001b[0;34m(\u001b[0m\u001b[0mN\u001b[0m\u001b[0;34m)\u001b[0m\u001b[0;34m:\u001b[0m\u001b[0;34m\u001b[0m\u001b[0;34m\u001b[0m\u001b[0m\n\u001b[0m\u001b[1;32m     42\u001b[0m   \u001b[0mdistancia_actual\u001b[0m \u001b[0;34m=\u001b[0m \u001b[0mdistancia_total\u001b[0m\u001b[0;34m(\u001b[0m\u001b[0mHormigas\u001b[0m\u001b[0;34m[\u001b[0m\u001b[0mh\u001b[0m\u001b[0;34m]\u001b[0m\u001b[0;34m,\u001b[0m\u001b[0mproblem\u001b[0m\u001b[0;34m)\u001b[0m\u001b[0;34m\u001b[0m\u001b[0;34m\u001b[0m\u001b[0m\n\u001b[1;32m     43\u001b[0m   \u001b[0;32mif\u001b[0m \u001b[0mdistancia_actual\u001b[0m \u001b[0;34m<\u001b[0m \u001b[0mmejor_distancia\u001b[0m\u001b[0;34m:\u001b[0m\u001b[0;34m\u001b[0m\u001b[0;34m\u001b[0m\u001b[0m\n",
            "\u001b[0;31mNameError\u001b[0m: name 'N' is not defined"
          ]
        }
      ]
    },
    {
      "cell_type": "code",
      "metadata": {
        "id": "QZh31JVSUltl",
        "colab_type": "code",
        "colab": {}
      },
      "source": [
        "def ADD_Nodo(problem, H,T) :\n",
        "  Nodos= List(problem.get_nodes())\n",
        "  return random.choice( list(set(range(1,len(Nodos)))- set(H)))\n",
        "\n",
        "def Incrementa_Fermona(problem, T, H) :\n",
        "  for i in range(len(H)-1):\n",
        "    T[H[i]][H[i+1]] += 1000/distancia_total(H,problem)\n",
        "    return T\n",
        "  \n",
        "def Evapora_Feromonas(T) :\n",
        "  for i in range(len(H)-1):\n",
        "    T=[[max(T[i][j]-0.3,1) for i in range(len(Nodos))] for j in range(len(Nodos))]\n",
        "    return T\n",
        "  "
      ],
      "execution_count": 0,
      "outputs": []
    }
  ]
}