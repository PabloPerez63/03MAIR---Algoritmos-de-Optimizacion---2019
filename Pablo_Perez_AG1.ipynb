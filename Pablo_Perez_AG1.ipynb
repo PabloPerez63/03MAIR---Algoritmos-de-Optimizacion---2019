{
  "nbformat": 4,
  "nbformat_minor": 0,
  "metadata": {
    "colab": {
      "name": "Pablo Perez-AG1.ipynb",
      "version": "0.3.2",
      "provenance": [],
      "collapsed_sections": [],
      "include_colab_link": true
    },
    "kernelspec": {
      "name": "python3",
      "display_name": "Python 3"
    }
  },
  "cells": [
    {
      "cell_type": "markdown",
      "metadata": {
        "id": "view-in-github",
        "colab_type": "text"
      },
      "source": [
        "<a href=\"https://colab.research.google.com/github/PabloPerez63/03MAIR---Algoritmos-de-Optimizacion---2019/blob/master/Pablo_Perez_AG1.ipynb\" target=\"_parent\"><img src=\"https://colab.research.google.com/assets/colab-badge.svg\" alt=\"Open In Colab\"/></a>"
      ]
    },
    {
      "cell_type": "code",
      "metadata": {
        "id": "2RoROETNZDT_",
        "colab_type": "code",
        "colab": {}
      },
      "source": [
        ""
      ],
      "execution_count": 0,
      "outputs": []
    },
    {
      "cell_type": "markdown",
      "metadata": {
        "id": "1YEM2bEcebyl",
        "colab_type": "text"
      },
      "source": [
        "Actividad Guiada 1 -AG1\n",
        "Pablo Perez \n",
        "https://colab.research.google.com/drive/1krfHSp8IcB0NqnMps7Fperzxy_NtyscF\n",
        "https://github.com/PabloPerez63\n"
      ]
    },
    {
      "cell_type": "code",
      "metadata": {
        "id": "g-4tRO5WgLrz",
        "colab_type": "code",
        "colab": {}
      },
      "source": [
        "from functools import wraps\n",
        "from time import time\n",
        "\n",
        "def calcular_tiempo(f):\n",
        "    @wraps(f)\n",
        "    def cronometro(*args, **kwargs):\n",
        "        t_inicial = time()\n",
        "        salida = f(*args, **kwargs)\n",
        "        t_final = time()\n",
        "        print('Tiempo transcurrido (en segundos): {}'.format(t_final - t_inicial))\n",
        "        return salida\n",
        "    return cronometro\n",
        "  \n",
        "import random"
      ],
      "execution_count": 0,
      "outputs": []
    },
    {
      "cell_type": "code",
      "metadata": {
        "id": "acLJiSH-KLFI",
        "colab_type": "code",
        "colab": {
          "base_uri": "https://localhost:8080/",
          "height": 72
        },
        "outputId": "e8e6ec47-0e32-46ed-eb20-23223e54cc7e"
      },
      "source": [
        "# Algoritmo divide y venceras quick sort\n",
        "\n",
        "A = [9187, 244, 4054, 9222, 8373, 4993, 5265, 5470, 4519, 7182, 2035, 3506, 4337, 7580, 2554, 2824, 8357, 4447, 7379]\n",
        "\n",
        "A= list(map(lambda x: random.randrange(1,10000) , range(1,600)))\n",
        "\n",
        "def quick_sort(A):\n",
        "  if len(A) == 1:\n",
        "    return A\n",
        "  \n",
        "  if len(A) == 2:\n",
        "    return [min(A),max(A)]\n",
        "  \n",
        "  pivote = (A[0] + A[1] + A[2])/3\n",
        "  \n",
        "  IZQ = []\n",
        "  DER = []\n",
        "  \n",
        "  for n in A:\n",
        "    if n < pivote :\n",
        "      IZQ.append(n)\n",
        "    else:  \n",
        "      DER.append(n)\n",
        "      \n",
        "  return quick_sort(IZQ) + quick_sort(DER)\n",
        "  \n",
        " \n",
        "\n",
        "@calcular_tiempo\n",
        "def ordenar(A):\n",
        "    print (quick_sort(A))\n",
        "    \n",
        "ordenar (A)"
      ],
      "execution_count": 40,
      "outputs": [
        {
          "output_type": "stream",
          "text": [
            "[5, 30, 35, 85, 97, 105, 107, 246, 276, 294, 321, 324, 325, 327, 350, 389, 390, 398, 400, 418, 424, 439, 443, 473, 502, 545, 559, 574, 619, 626, 633, 633, 655, 671, 699, 703, 704, 709, 724, 742, 765, 773, 777, 785, 807, 824, 847, 869, 873, 905, 953, 959, 960, 1005, 1021, 1022, 1027, 1051, 1062, 1098, 1117, 1117, 1125, 1130, 1150, 1159, 1163, 1173, 1184, 1191, 1195, 1215, 1218, 1249, 1257, 1276, 1290, 1292, 1295, 1337, 1384, 1407, 1482, 1483, 1486, 1489, 1489, 1498, 1544, 1549, 1572, 1604, 1609, 1612, 1671, 1682, 1684, 1704, 1719, 1721, 1734, 1777, 1778, 1807, 1810, 1826, 1843, 1874, 1972, 1990, 2019, 2025, 2037, 2046, 2054, 2102, 2103, 2124, 2136, 2157, 2158, 2164, 2170, 2199, 2212, 2241, 2255, 2284, 2297, 2302, 2308, 2316, 2340, 2392, 2397, 2402, 2410, 2427, 2437, 2459, 2471, 2526, 2531, 2531, 2566, 2590, 2595, 2609, 2610, 2615, 2620, 2636, 2638, 2655, 2670, 2672, 2685, 2689, 2697, 2698, 2710, 2718, 2735, 2744, 2806, 2815, 2831, 2839, 2846, 2853, 2859, 2879, 2892, 2920, 2928, 2931, 2951, 2953, 2969, 2977, 3006, 3030, 3047, 3051, 3059, 3070, 3088, 3099, 3099, 3158, 3166, 3170, 3171, 3181, 3200, 3205, 3217, 3240, 3242, 3321, 3345, 3345, 3355, 3357, 3372, 3375, 3407, 3433, 3447, 3448, 3451, 3459, 3469, 3470, 3506, 3508, 3512, 3520, 3525, 3552, 3555, 3574, 3580, 3603, 3610, 3626, 3635, 3649, 3655, 3661, 3674, 3678, 3681, 3695, 3710, 3739, 3753, 3774, 3824, 3834, 3836, 3913, 3924, 3927, 3929, 3934, 3937, 3976, 3977, 3997, 4043, 4052, 4073, 4085, 4085, 4092, 4180, 4220, 4224, 4240, 4240, 4280, 4287, 4338, 4347, 4363, 4371, 4419, 4468, 4477, 4478, 4483, 4493, 4510, 4511, 4517, 4523, 4574, 4579, 4582, 4617, 4632, 4647, 4667, 4673, 4675, 4682, 4726, 4729, 4747, 4748, 4754, 4780, 4794, 4795, 4830, 4854, 4869, 4887, 4907, 4947, 4951, 4972, 5015, 5021, 5030, 5031, 5049, 5057, 5133, 5137, 5144, 5151, 5163, 5165, 5169, 5170, 5248, 5311, 5335, 5355, 5356, 5382, 5384, 5467, 5471, 5485, 5485, 5533, 5538, 5554, 5608, 5624, 5634, 5643, 5648, 5649, 5665, 5665, 5698, 5699, 5707, 5707, 5714, 5725, 5726, 5731, 5740, 5765, 5792, 5816, 5818, 5836, 5913, 5966, 5972, 5981, 5992, 5996, 6007, 6038, 6043, 6050, 6101, 6157, 6169, 6176, 6201, 6207, 6233, 6239, 6253, 6261, 6302, 6312, 6351, 6375, 6412, 6460, 6461, 6494, 6507, 6524, 6541, 6548, 6559, 6566, 6578, 6582, 6619, 6637, 6648, 6650, 6655, 6667, 6704, 6708, 6760, 6763, 6781, 6788, 6790, 6792, 6796, 6808, 6834, 6841, 6853, 6866, 6902, 6903, 6911, 6922, 6960, 6960, 6991, 7008, 7010, 7023, 7026, 7097, 7101, 7128, 7131, 7242, 7242, 7252, 7279, 7289, 7305, 7314, 7318, 7321, 7330, 7355, 7357, 7366, 7403, 7407, 7439, 7456, 7467, 7477, 7483, 7503, 7516, 7526, 7583, 7585, 7606, 7634, 7646, 7647, 7664, 7667, 7669, 7678, 7681, 7703, 7703, 7707, 7732, 7736, 7744, 7754, 7760, 7772, 7778, 7781, 7806, 7817, 7823, 7843, 7894, 7895, 7904, 7907, 7922, 7930, 7953, 7992, 8028, 8060, 8073, 8078, 8087, 8091, 8095, 8101, 8107, 8118, 8132, 8133, 8136, 8152, 8157, 8197, 8228, 8245, 8274, 8291, 8322, 8324, 8332, 8363, 8368, 8383, 8412, 8473, 8485, 8524, 8530, 8543, 8558, 8569, 8600, 8603, 8628, 8629, 8643, 8649, 8755, 8781, 8786, 8824, 8837, 8848, 8849, 8850, 8919, 8922, 8934, 8951, 8958, 8960, 8977, 8988, 9036, 9037, 9039, 9069, 9073, 9074, 9076, 9082, 9100, 9144, 9150, 9158, 9180, 9181, 9186, 9190, 9193, 9198, 9214, 9244, 9262, 9269, 9277, 9279, 9287, 9289, 9292, 9303, 9314, 9320, 9353, 9370, 9453, 9488, 9532, 9539, 9540, 9548, 9566, 9571, 9571, 9578, 9581, 9590, 9614, 9636, 9717, 9728, 9742, 9754, 9821, 9835, 9852, 9869, 9880, 9881, 9882, 9883, 9891, 9913, 9924, 9930]\n",
            "Tiempo transcurrido (en segundos): 0.0018377304077148438\n"
          ],
          "name": "stdout"
        }
      ]
    },
    {
      "cell_type": "code",
      "metadata": {
        "id": "g1SegrRhsQZm",
        "colab_type": "code",
        "colab": {
          "base_uri": "https://localhost:8080/",
          "height": 52
        },
        "outputId": "8ab9f67d-dc17-4642-f764-73a68004b9c5"
      },
      "source": [
        "# Algoritmo voraz para la devolución del cambio \n",
        "\n",
        "SISTEMA= [25, 10, 5, 1]\n",
        "\n",
        "@calcular_tiempo\n",
        "def cambio_monedas(CANTIDAD,SISTEMA):\n",
        "  SOLUCION = [0 for i in range(len(SISTEMA)) ]\n",
        "  \n",
        "  VALOR_ACUMULADO = 0\n",
        "  \n",
        "  \n",
        "  for i in range(len(SISTEMA)):\n",
        "    monedas = int((CANTIDAD - VALOR_ACUMULADO)/SISTEMA[i])\n",
        "    SOLUCION[i] = monedas \n",
        "    VALOR_ACUMULADO = VALOR_ACUMULADO + monedas*SISTEMA[i]\n",
        "    \n",
        "    if VALOR_ACUMULADO == CANTIDAD:\n",
        "      return SOLUCION\n",
        "    \n",
        "print (cambio_monedas(123, SISTEMA))"
      ],
      "execution_count": 48,
      "outputs": [
        {
          "output_type": "stream",
          "text": [
            "Tiempo transcurrido (en segundos): 1.0013580322265625e-05\n",
            "[4, 2, 0, 3]\n"
          ],
          "name": "stdout"
        }
      ]
    },
    {
      "cell_type": "code",
      "metadata": {
        "id": "vnyG4_wowd6E",
        "colab_type": "code",
        "colab": {
          "base_uri": "https://localhost:8080/",
          "height": 87
        },
        "outputId": "c53d5703-9b71-4d9d-9af9-ebc837e29c93"
      },
      "source": [
        " # Algoritmo cn vuelta atras para el problema de las N_Reinas \n",
        "\n",
        "def es_prometedora(SOLUCION,etapa):\n",
        "  for i in range (etapa+1):\n",
        "    if SOLUCION.count(SOLUCION[i])> 1:  \n",
        "      return False\n",
        "    \n",
        "    for j in range (i+1, etapa +1):\n",
        "      if abs (i-j) == abs(SOLUCION[i]-SOLUCION[j]) :\n",
        "        return False\n",
        "    \n",
        "  return True\n",
        "  \n",
        "def  reinas(N, solucion=[], etapa=0):\n",
        "  if len(solucion) == 0:\n",
        "      solucion=[0 for i in range(N)]\n",
        "\n",
        "  for i in range (1,N+1):\n",
        "      solucion[etapa] = i\n",
        "      \n",
        "      if es_prometedora(solucion,etapa):\n",
        "        if etapa == N-1 :\n",
        "          print(\"\\n\\nLa solucion es:\")\n",
        "          print(solucion)\n",
        "        \n",
        "        else:         \n",
        "        \n",
        "          reinas(N,solucion, etapa+1)\n",
        "      else: \n",
        "        None \n",
        "     \n",
        "        \n",
        "        \n",
        "reinas(4)"
      ],
      "execution_count": 55,
      "outputs": [
        {
          "output_type": "stream",
          "text": [
            "\n",
            "\n",
            "La solucion es:\n",
            "[3, 1, 4, 2]\n"
          ],
          "name": "stdout"
        }
      ]
    }
  ]
}