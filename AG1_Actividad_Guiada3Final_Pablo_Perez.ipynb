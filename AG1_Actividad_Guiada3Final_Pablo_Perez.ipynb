{
  "nbformat": 4,
  "nbformat_minor": 0,
  "metadata": {
    "colab": {
      "name": "AG1-Actividad Guiada3Final Pablo Perez.ipynb",
      "version": "0.3.2",
      "provenance": [],
      "collapsed_sections": [],
      "include_colab_link": true
    },
    "kernelspec": {
      "name": "python3",
      "display_name": "Python 3"
    }
  },
  "cells": [
    {
      "cell_type": "markdown",
      "metadata": {
        "id": "view-in-github",
        "colab_type": "text"
      },
      "source": [
        "<a href=\"https://colab.research.google.com/github/PabloPerez63/03MAIR---Algoritmos-de-Optimizacion---2019/blob/master/AG1_Actividad_Guiada3Final_Pablo_Perez.ipynb\" target=\"_parent\"><img src=\"https://colab.research.google.com/assets/colab-badge.svg\" alt=\"Open In Colab\"/></a>"
      ]
    },
    {
      "cell_type": "code",
      "metadata": {
        "id": "vV_yV-d4PojH",
        "colab_type": "code",
        "colab": {}
      },
      "source": [
        "# AG3 - Actividad Guiada (Correccion)\n",
        "# Pablo Perez \n",
        "\n",
        "\n",
        "##https://colab.research.google.com/drive/1bWPTuJZbgxVp23scUUvN1ksFsm8kzdSa"
      ],
      "execution_count": 0,
      "outputs": []
    },
    {
      "cell_type": "markdown",
      "metadata": {
        "id": "VnzKLOGMW6II",
        "colab_type": "text"
      },
      "source": [
        ""
      ]
    },
    {
      "cell_type": "code",
      "metadata": {
        "id": "aC-I59owW73O",
        "colab_type": "code",
        "outputId": "825c9cf2-cbdc-4c43-c078-19a59fc3566a",
        "colab": {
          "base_uri": "https://localhost:8080/",
          "height": 557
        }
      },
      "source": [
        "!pip install request\n"
      ],
      "execution_count": 0,
      "outputs": [
        {
          "output_type": "stream",
          "text": [
            "Collecting request\n",
            "  Downloading https://files.pythonhosted.org/packages/f1/27/7cbde262d854aedf217061a97020d66a63163c5c04e0ec02ff98c5d8f44e/request-2019.4.13.tar.gz\n",
            "Collecting get (from request)\n",
            "  Downloading https://files.pythonhosted.org/packages/3f/ef/bb46f77f7220ac1b7edba0c76d810c89fddb24ddd8c08f337b9b4a618db7/get-2019.4.13.tar.gz\n",
            "Collecting post (from request)\n",
            "  Downloading https://files.pythonhosted.org/packages/0f/05/bd79da5849ea6a92485ed7029ef97b1b75e55c26bc0ed3a7ec769af666f3/post-2019.4.13.tar.gz\n",
            "Requirement already satisfied: setuptools in /usr/local/lib/python3.6/dist-packages (from request) (41.2.0)\n",
            "Collecting query_string (from get->request)\n",
            "  Downloading https://files.pythonhosted.org/packages/12/3c/412a45daf5bea9b1d06d7de41787ec4168001dfa418db7ec8723356b119f/query-string-2019.4.13.tar.gz\n",
            "Collecting public (from query_string->get->request)\n",
            "  Downloading https://files.pythonhosted.org/packages/54/4d/b40004cc6c07665e48af22cfe1e631f219bf4282e15fa76a5b6364f6885c/public-2019.4.13.tar.gz\n",
            "Building wheels for collected packages: request, get, post, query-string, public\n",
            "  Building wheel for request (setup.py) ... \u001b[?25l\u001b[?25hdone\n",
            "  Created wheel for request: filename=request-2019.4.13-cp36-none-any.whl size=1676 sha256=a869f67ded30a8085663016fb09adab9658ef7e7ad1a779449ffe10fff544e03\n",
            "  Stored in directory: /root/.cache/pip/wheels/30/84/5f/484cfba678967ef58c16fce6890925d5c7172622f20111fbfd\n",
            "  Building wheel for get (setup.py) ... \u001b[?25l\u001b[?25hdone\n",
            "  Created wheel for get: filename=get-2019.4.13-cp36-none-any.whl size=1692 sha256=46d6098e13eceb5700a63475432535c2c3c2dddc8622557b03d117e9ca7cffdf\n",
            "  Stored in directory: /root/.cache/pip/wheels/c1/e3/c1/d02c8c58538853e4c9b78cadb74f6d5c5c370b48a69a7271aa\n",
            "  Building wheel for post (setup.py) ... \u001b[?25l\u001b[?25hdone\n",
            "  Created wheel for post: filename=post-2019.4.13-cp36-none-any.whl size=1661 sha256=f078019f97b5fb46315f770bf93c39c2f78902f2064f9c199deac4f349e52e23\n",
            "  Stored in directory: /root/.cache/pip/wheels/c3/c3/24/b5c132b537ab380c02d69e6bd4dec1f5db56b5fe19030473d7\n",
            "  Building wheel for query-string (setup.py) ... \u001b[?25l\u001b[?25hdone\n",
            "  Created wheel for query-string: filename=query_string-2019.4.13-cp36-none-any.whl size=2049 sha256=e94a84869507d1201972716bd0117b1604fb482bdf5300fbbab84f07f9df14d7\n",
            "  Stored in directory: /root/.cache/pip/wheels/d6/a4/78/01b20a9dc224dcc009fab669f7f27b943b8889c5150bd68d8a\n",
            "  Building wheel for public (setup.py) ... \u001b[?25l\u001b[?25hdone\n",
            "  Created wheel for public: filename=public-2019.4.13-cp36-none-any.whl size=2536 sha256=8179ff1bac87265a4eb5209770eb6d7c81ec7c059a32cb9e0815ab54bdf8efed\n",
            "  Stored in directory: /root/.cache/pip/wheels/23/7c/6e/f5b4e09d6596c8b8802b347e48f149031e2363368048f1347a\n",
            "Successfully built request get post query-string public\n",
            "Installing collected packages: public, query-string, get, post, request\n",
            "Successfully installed get-2019.4.13 post-2019.4.13 public-2019.4.13 query-string-2019.4.13 request-2019.4.13\n"
          ],
          "name": "stdout"
        }
      ]
    },
    {
      "cell_type": "code",
      "metadata": {
        "id": "79FLq4dSXcfW",
        "colab_type": "code",
        "outputId": "ab75135c-f702-4911-abe1-656a167fd2be",
        "colab": {
          "base_uri": "https://localhost:8080/",
          "height": 35
        }
      },
      "source": [
        "import urllib.request\n",
        "\n",
        "file= \"swiss42.tsp\"\n",
        "urllib.request.urlretrieve(\"http://elib.zib.de/pub/mp-testdata/tsp/tsplib/tsp/swiss42.tsp\",file) \n",
        "\n",
        "#42 cities Switzerland (Fricker) en formato matriz\n",
        "#http://elib.zib.de/pub/mp-testdata/tsp/tsplib/tsp/swiss42.tsp\n",
        "\n",
        "#48 capital of the US (Padberg/Rinaldi) en formato de coordenadas\n",
        "#http://elib.zib.de/pub/mp-testdata/tsp/tsplib/tsp/att48.tsp"
      ],
      "execution_count": 0,
      "outputs": [
        {
          "output_type": "execute_result",
          "data": {
            "text/plain": [
              "('swiss42.tsp', <http.client.HTTPMessage at 0x7fda33a68940>)"
            ]
          },
          "metadata": {
            "tags": []
          },
          "execution_count": 3
        }
      ]
    },
    {
      "cell_type": "code",
      "metadata": {
        "id": "OCL2-TD5YQ5M",
        "colab_type": "code",
        "outputId": "caa4917b-f7a3-4b67-919d-34571da05b32",
        "colab": {
          "base_uri": "https://localhost:8080/",
          "height": 349
        }
      },
      "source": [
        "#http//tsplib95.readthedocs.io/installation.html\n",
        "!pip install tsplib95\n"
      ],
      "execution_count": 0,
      "outputs": [
        {
          "output_type": "stream",
          "text": [
            "Collecting tsplib95\n",
            "  Downloading https://files.pythonhosted.org/packages/90/9f/5fbf6118d00719cc4688b175a04da09b89c3780db6b0c55bc646a20a6a07/tsplib95-0.3.3-py2.py3-none-any.whl\n",
            "Requirement already satisfied: Click>=6.0 in /usr/local/lib/python3.6/dist-packages (from tsplib95) (7.0)\n",
            "Collecting networkx==2.1 (from tsplib95)\n",
            "\u001b[?25l  Downloading https://files.pythonhosted.org/packages/11/42/f951cc6838a4dff6ce57211c4d7f8444809ccbe2134179950301e5c4c83c/networkx-2.1.zip (1.6MB)\n",
            "\u001b[K     |████████████████████████████████| 1.6MB 7.4MB/s \n",
            "\u001b[?25hRequirement already satisfied: decorator>=4.1.0 in /usr/local/lib/python3.6/dist-packages (from networkx==2.1->tsplib95) (4.4.0)\n",
            "Building wheels for collected packages: networkx\n",
            "  Building wheel for networkx (setup.py) ... \u001b[?25l\u001b[?25hdone\n",
            "  Created wheel for networkx: filename=networkx-2.1-py2.py3-none-any.whl size=1447766 sha256=aa5560ea29af7f641985f869123aaeaf1c05a270a013b20f13af691f9a3ea9e6\n",
            "  Stored in directory: /root/.cache/pip/wheels/44/c0/34/6f98693a554301bdb405f8d65d95bbcd3e50180cbfdd98a94e\n",
            "Successfully built networkx\n",
            "\u001b[31mERROR: albumentations 0.1.12 has requirement imgaug<0.2.7,>=0.2.5, but you'll have imgaug 0.2.9 which is incompatible.\u001b[0m\n",
            "Installing collected packages: networkx, tsplib95\n",
            "  Found existing installation: networkx 2.3\n",
            "    Uninstalling networkx-2.3:\n",
            "      Successfully uninstalled networkx-2.3\n",
            "Successfully installed networkx-2.1 tsplib95-0.3.3\n"
          ],
          "name": "stdout"
        }
      ]
    },
    {
      "cell_type": "code",
      "metadata": {
        "id": "EI5m-6P7o8AI",
        "colab_type": "code",
        "colab": {}
      },
      "source": [
        ""
      ],
      "execution_count": 0,
      "outputs": []
    },
    {
      "cell_type": "code",
      "metadata": {
        "id": "yIrqeZEsoYOv",
        "colab_type": "code",
        "colab": {}
      },
      "source": [
        "import tsplib95\n",
        "import random\n",
        "from math import e \n",
        " "
      ],
      "execution_count": 0,
      "outputs": []
    },
    {
      "cell_type": "code",
      "metadata": {
        "id": "J7EXq7papF5m",
        "colab_type": "code",
        "outputId": "0b8d58c3-3642-45d0-9ed6-71209ba28952",
        "colab": {
          "base_uri": "https://localhost:8080/",
          "height": 35
        }
      },
      "source": [
        "problem = tsplib95.load_problem(file)\n",
        "\n",
        "# Nodos\n",
        "Nodos = list(problem.get_nodes())\n",
        "\n",
        "# Aristas\n",
        "\n",
        "Aristas= list(problem.get_edges())\n",
        "\n",
        "#list(problem.get_nodes())\n",
        "#list(problem.get_edges())\n",
        "\n",
        "problem.wfunc(0,3)"
      ],
      "execution_count": 0,
      "outputs": [
        {
          "output_type": "execute_result",
          "data": {
            "text/plain": [
              "23"
            ]
          },
          "metadata": {
            "tags": []
          },
          "execution_count": 23
        }
      ]
    },
    {
      "cell_type": "code",
      "metadata": {
        "id": "pTshJd2vq5iq",
        "colab_type": "code",
        "colab": {}
      },
      "source": [
        "#Se genera una solucion aleatoria con comienzo en el nodo 0\n",
        "\n",
        "def crear_solucion(Nodos):\n",
        "  solucion = [0]\n",
        "  for i in range(len(Nodos)-1):\n",
        "    solucion = solucion + [random.choice(list(set(Nodos) - set({0}) - set(solucion)))]\n",
        "  return solucion  \n",
        "\n",
        "# Devuelve la distancia entre dos nodos \n",
        "\n",
        "def distancia(a,b, problem):\n",
        "   return problem.wfunc(a,b)\n",
        "\n",
        "# Devuelve la distancia total de una trayectoria/solucion\n",
        "def distancia_total(solucion, problem):\n",
        "  distancia_total =0\n",
        "  for i in range (len(solucion)-1):\n",
        "    distancia_total += distancia(solucion[i],solucion[i+1], problem)\n",
        "    return distancia_total + distancia(solucion[len(solucion)-1], solucion[0], problem)\n",
        "\n",
        "#crear_solucion(Nodos)\n",
        "\n",
        "\n"
      ],
      "execution_count": 0,
      "outputs": []
    },
    {
      "cell_type": "code",
      "metadata": {
        "id": "G4nbgJsG_apR",
        "colab_type": "code",
        "outputId": "622c6186-027c-4759-8d46-1c08028d9936",
        "colab": {
          "base_uri": "https://localhost:8080/",
          "height": 800
        }
      },
      "source": [
        "def busqueda_aleatoria(problem, N):\n",
        "  # problem = datos del problema \n",
        "  #N = Numero de iteracciones \n",
        "\n",
        "  # Nodos   \n",
        "  Nodos = list(problem.get_nodes())\n",
        "\n",
        "  mejor_solucion = []\n",
        "  mejor_distancia = 10e100\n",
        "\n",
        "  for i in range (N):\n",
        "    solucion = crear_solucion(Nodos)\n",
        "    distancia_solucion  = distancia_total(solucion, problem)\n",
        "    if distancia_solucion < mejor_distancia:\n",
        "      mejor_solucion = solucion \n",
        "      mejor_distancia = distancia_solucion\n",
        "    \n",
        "     \n",
        "    print(\" La mejor solucion encontrada es \", end=\"\")\n",
        "    print(solucion)\n",
        "    print(\" con una distancia total de \", end=\"\")\n",
        "    print(mejor_distancia)\n",
        "    return mejor_solucion\n",
        "\n",
        "\n",
        "busqueda_aleatoria(problem, 500)"
      ],
      "execution_count": 0,
      "outputs": [
        {
          "output_type": "stream",
          "text": [
            " La mejor solucion encontrada es [0, 11, 15, 28, 39, 29, 16, 24, 19, 27, 18, 38, 21, 30, 12, 5, 35, 14, 25, 10, 1, 37, 17, 4, 34, 40, 13, 26, 36, 41, 33, 3, 23, 6, 7, 9, 32, 8, 31, 20, 2, 22]\n",
            " con una distancia total de 232\n"
          ],
          "name": "stdout"
        },
        {
          "output_type": "execute_result",
          "data": {
            "text/plain": [
              "[0,\n",
              " 11,\n",
              " 15,\n",
              " 28,\n",
              " 39,\n",
              " 29,\n",
              " 16,\n",
              " 24,\n",
              " 19,\n",
              " 27,\n",
              " 18,\n",
              " 38,\n",
              " 21,\n",
              " 30,\n",
              " 12,\n",
              " 5,\n",
              " 35,\n",
              " 14,\n",
              " 25,\n",
              " 10,\n",
              " 1,\n",
              " 37,\n",
              " 17,\n",
              " 4,\n",
              " 34,\n",
              " 40,\n",
              " 13,\n",
              " 26,\n",
              " 36,\n",
              " 41,\n",
              " 33,\n",
              " 3,\n",
              " 23,\n",
              " 6,\n",
              " 7,\n",
              " 9,\n",
              " 32,\n",
              " 8,\n",
              " 31,\n",
              " 20,\n",
              " 2,\n",
              " 22]"
            ]
          },
          "metadata": {
            "tags": []
          },
          "execution_count": 37
        }
      ]
    },
    {
      "cell_type": "code",
      "metadata": {
        "id": "6jqIb43_KMBF",
        "colab_type": "code",
        "colab": {}
      },
      "source": [
        "def genera_vecina(solucion):\n",
        "  # Generador de soluciones vecina 2 -opt (intercambiar dos nodos) Si hay nodos de genera (N-1)x (N-2)/2 soluciones \n",
        "  # print(solucion) \n",
        "  mejor_solucion =[]\n",
        "  mejor_distancia = 10e100\n",
        "  for i in range (1,len(solucion)-1):\n",
        "    for j in range (i+1,len(solucion)): \n",
        "      vecina= solucion[:i] + [solucion[j]] + solucion[i+1:j] + [solucion[i]] +solucion [j+1:]\n",
        "      distancia_vecina  = distancia_total(vecina, problem)\n",
        "      if distancia_vecina <= mejor_distancia:\n",
        "        mejor_distancia = distancia_vecina\n",
        "        mejor_solucion =  vecina\n",
        "  return mejor_solucion\n",
        "\n",
        "#busqueda_aleatoria(problem,5000)"
      ],
      "execution_count": 0,
      "outputs": []
    },
    {
      "cell_type": "code",
      "metadata": {
        "id": "lVRAU-3ERPV1",
        "colab_type": "code",
        "outputId": "0d1dde80-ff6e-4b2e-952e-82e126746233",
        "colab": {
          "base_uri": "https://localhost:8080/",
          "height": 72
        }
      },
      "source": [
        "def busqueda_local(problem,N):\n",
        "  # problems= datos del problema \n",
        "  # N = Numero de iteraciones\n",
        "  \n",
        "  mejor_solucion =[]\n",
        "  mejor_distancia = 10e100\n",
        "  \n",
        "  solucion_referencia = crear_solucion(Nodos)\n",
        "  \n",
        "  for i in range (N):\n",
        "    vecina= genera_vecina(solucion_referencia)\n",
        "    distancia_vecina  = distancia_total(vecina,problem)\n",
        "    if distancia_vecina <= mejor_distancia: \n",
        "      mejor_solucion =  vecina\n",
        "      mejor_distancia = distancia_vecina \n",
        "      \n",
        "      \n",
        "    solucion_referencia = vecina\n",
        "  \n",
        "    print(\" La mejor solucion encontrada es \", end=\"\")\n",
        "    print(mejor_solucion)\n",
        "    print(\" con una distancia total de \", end=\"\")\n",
        "    print(mejor_distancia)\n",
        "    return mejor_solucion\n",
        "\n",
        "sol =busqueda_local(problem,100)\n"
      ],
      "execution_count": 0,
      "outputs": [
        {
          "output_type": "stream",
          "text": [
            " La mejor solucion encontrada es [0, 34, 26, 9, 10, 18, 6, 4, 13, 19, 7, 37, 25, 3, 32, 22, 35, 38, 8, 31, 41, 11, 28, 30, 2, 29, 33, 24, 17, 36, 14, 23, 20, 16, 12, 5, 15, 39, 27, 40, 21, 1]\n",
            " con una distancia total de 99\n"
          ],
          "name": "stdout"
        }
      ]
    },
    {
      "cell_type": "code",
      "metadata": {
        "id": "G3Xkyo0WbYMO",
        "colab_type": "code",
        "colab": {}
      },
      "source": [
        "#Funcion de probabilidad para aceptar peores soluciones \n",
        "\n",
        "import math\n",
        "def probabilidad(T,d):\n",
        "  r=random.random();\n",
        "  if r < math.exp((-1*d)/T):\n",
        "    return True\n",
        "  else:\n",
        "    return False \n",
        "\n",
        "# Funcion descenso de temperatura\n",
        "\n",
        "def bajar_temperatura(T):\n",
        "  return T*0.999\n",
        "\n",
        "def genera_vecina_aleatorio(solucion):\n",
        "  # Generador de 1 solucion vecina 2-opt aleatoria (intercambiar 2 nodos)\n",
        "  \n",
        "  # Se eligen dos nodos aleatoriamente \n",
        "\n",
        "  i,j = sorted(random.sample(range(1,len(solucion)),2))\n",
        "  \n",
        "  return solucion[:1] + [solucion[j]] + solucion[i+1:j] + [solucion[i]] + solucion[j+1:]\n",
        "  \n"
      ],
      "execution_count": 0,
      "outputs": []
    },
    {
      "cell_type": "code",
      "metadata": {
        "id": "Zpr913KDDBfh",
        "colab_type": "code",
        "outputId": "d9073653-6615-418c-9cf3-cee1304396f4",
        "colab": {
          "base_uri": "https://localhost:8080/",
          "height": 52
        }
      },
      "source": [
        "import copy\n",
        "def recocido_simulado(problem, TEMPERATURA ):\n",
        "  #problem=datos del problema\n",
        "  #T = Temperatura \n",
        "  \n",
        "  solucion_referencia = crear_solucion(Nodos)\n",
        "  \n",
        "  distancia_referencia  = distancia_total(solucion_referencia, problem)\n",
        "  \n",
        "  mejor_solucion =[]\n",
        "  mejor_distancia = 10e100\n",
        "  while TEMPERATURA > .01:\n",
        "    #print(\"#Temperatura:\", TEMPERATURA, \"Fitness:\", mejor_distancia )\n",
        "    # Genera una solucion vecina\n",
        "    # vecina=gerera_vecina(solucion_referencia) \n",
        "    vecina= genera_vecina_aleatorio(solucion_referencia)\n",
        "    \n",
        "    #Calcula su valor(distancia)\n",
        "    distancia_vecina  = distancia_total(vecina,problem)\n",
        "\n",
        "    #Si es la mejor solucion de todas la guarda\n",
        "    if distancia_vecina < mejor_distancia: \n",
        "        mejor_solucion =  vecina\n",
        "        mejor_distancia = distancia_vecina \n",
        "   \n",
        "  #Si la nueva vecina es mejor se cambia y si es peor segun la probabilidad dependiente de T y de distancia_referencia  \n",
        "    \n",
        "    if distancia_vecina < distancia_referencia or probabilidad(TEMPERATURA, abs(distancia_referencia - distancia_vecina)) :\n",
        "      print(\"Distancias:\", distancia_referencia, distancia_vecina)\n",
        "      solucion_referencia= copy.deepcopy(vecina)\n",
        "      distancia_referencia=distancia_vecina\n",
        "      \n",
        "    \n",
        "    TEMPERATURA=bajar_temperatura(TEMPERATURA)  \n",
        "\n",
        "    return mejor_solucion  \n",
        "  \n",
        "recocido_simulado(problem, 7)"
      ],
      "execution_count": 0,
      "outputs": [
        {
          "output_type": "stream",
          "text": [
            "Distancias: 179 147\n"
          ],
          "name": "stdout"
        },
        {
          "output_type": "execute_result",
          "data": {
            "text/plain": [
              "[0, 13, 18, 21, 8, 12, 36, 23, 7, 33, 28, 41, 29, 34, 30, 24, 26]"
            ]
          },
          "metadata": {
            "tags": []
          },
          "execution_count": 56
        }
      ]
    },
    {
      "cell_type": "code",
      "metadata": {
        "id": "jPslF37MD0ZT",
        "colab_type": "code",
        "colab": {}
      },
      "source": [
        "\n",
        "\n",
        "  \n",
        " \n",
        "    \n"
      ],
      "execution_count": 0,
      "outputs": []
    },
    {
      "cell_type": "code",
      "metadata": {
        "id": "6bzpoO4JNQzw",
        "colab_type": "code",
        "colab": {}
      },
      "source": [
        "def hormigas(problem, N) :\n",
        "  #problem=datos del problema\n",
        "  #N=Numero de agentes (hormigas)\n",
        "  \n",
        "  #Nodos\n",
        "  Nodos= list(problem.get_nodes())\n",
        "  \n",
        "  #Aristas\n",
        "  Aristas = list(problem.get_edge())\n",
        "\n",
        "  # Inicializa las aristas con la cantidad inicial de feromonas:1\n",
        "  # Mejora: iniciar con valores diferente dependiendo de diferentes criterios\n",
        "  T= [[ 1 for _ in range(len(Nodos)) ] for _ in range(len(Nodos))]\n",
        "\n",
        "  \n",
        "  # Se generan los agentes (hormigas) que seran estructuras de caminos desde 0\n",
        "  Hormiga = [[0] for _ in range(N)]\n",
        "  \n",
        "  #Recorre cada agente construyendo la solucion \n",
        "  for h in range(N) :\n",
        "    # Para cada agente se construye un camino\n",
        "    for i in range(len(Nodos)-1) :\n",
        "      \n",
        "      #Elige el siguente nodo \n",
        "      Nuevo_nodo = Add_Nodo(problem, Hormiga[h] ,T)\n",
        "      Hormiga[h].append(Nuevo_Nodo)\n",
        "      \n",
        "    #Incrementa feromonas en esa arista \n",
        "    T= Incrementa_Feromona(problem, T, Hormiga[h] )\n",
        "    # print (\"Feromonas(1)\", T)\n",
        "      \n",
        "    # Evapora feromonas \n",
        "    T= Evaporar_Feromonas(T)\n",
        "    # print (\"Feromonas(2)\", T)\n",
        "  \n",
        "    #Seleccionamos el mejor agente\n",
        "    \n",
        "  mejor_solucion = []\n",
        "  mejor_distancia = 10e100\n",
        "  \n",
        "  for h in range (N):\n",
        "    distancia_actual = distancia_total(Hormigas[h],problem) \n",
        "    if distancia_actual < mejor_distancia:\n",
        "      mejor_solucion = Hormiga[h]\n",
        "      mejor_distancia= distancia_actual\n",
        "   \n",
        "  return mejor_solucion \n",
        "\n",
        "\n"
      ],
      "execution_count": 0,
      "outputs": []
    },
    {
      "cell_type": "code",
      "metadata": {
        "id": "QZh31JVSUltl",
        "colab_type": "code",
        "colab": {}
      },
      "source": [
        "def ADD_Nodo(problem, H,T) :\n",
        "  Nodos= List(problem.get_nodes())\n",
        "  return random.choice( list(set(range(1,len(Nodos)))- set(H)))\n",
        "\n",
        "def Incrementa_Fermona(problem, T, H) :\n",
        "  for i in range(len(H)-1):\n",
        "    T[H[i]][H[i+1]] += 1000/distancia_total(H,problem)\n",
        "    return T\n",
        "  \n",
        "def Evapora_Feromonas(T) :\n",
        "  for i in range(len(H)-1):\n",
        "    T=[[max(T[i][j]-0.3,1) for i in range(len(Nodos))] for j in range(len(Nodos))]\n",
        "    return T\n",
        "  "
      ],
      "execution_count": 0,
      "outputs": []
    }
  ]
}