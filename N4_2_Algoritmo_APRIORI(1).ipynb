{
  "nbformat": 4,
  "nbformat_minor": 0,
  "metadata": {
    "kernelspec": {
      "display_name": "Python 3",
      "language": "python",
      "name": "python3"
    },
    "language_info": {
      "codemirror_mode": {
        "name": "ipython",
        "version": 3
      },
      "file_extension": ".py",
      "mimetype": "text/x-python",
      "name": "python",
      "nbconvert_exporter": "python",
      "pygments_lexer": "ipython3",
      "version": "3.7.1"
    },
    "colab": {
      "name": "N4.2 - Algoritmo APRIORI(1).ipynb",
      "provenance": [],
      "collapsed_sections": [],
      "include_colab_link": true
    }
  },
  "cells": [
    {
      "cell_type": "markdown",
      "metadata": {
        "id": "view-in-github",
        "colab_type": "text"
      },
      "source": [
        "<a href=\"https://colab.research.google.com/github/PabloPerez63/03MAIR---Algoritmos-de-Optimizacion---2019/blob/master/N4_2_Algoritmo_APRIORI(1).ipynb\" target=\"_parent\"><img src=\"https://colab.research.google.com/assets/colab-badge.svg\" alt=\"Open In Colab\"/></a>"
      ]
    },
    {
      "cell_type": "markdown",
      "metadata": {
        "id": "v0INCuBFvzKe",
        "colab_type": "text"
      },
      "source": [
        "<center><h1>VC10: Algoritmo APRIORI</h1></center>\n",
        "\n",
        "El algoritmo Apriori es un procedimiento para encontrar subsets frecuentes de ítems. En el caso de la cesta de la compra serían conjuntos de productos que suelen comprarse simultáneamente. \n",
        "\n",
        "\n",
        "Se podría decir que el algoritmo Apriori es una búsqueda en anchura donde, en primer lugar, se buscan todos los subconjuntos $X$ de tamaño 1 que tienen un mínimo soporte sobre el conjunto de transacciones $S$, $soporte(X;S)\\geq minS$, donde el soporte es una métrica que se define como:\n",
        "$$soporte(X;S)=\\frac{|\\{T\\in S:X\\subseteq T\\}}{|S|}$$\n",
        "\n",
        "Así, la primera tarea consiste en detectar todos los subconjuntos de tamaño $1$:"
      ]
    },
    {
      "cell_type": "markdown",
      "metadata": {
        "id": "1jNtz_1hFs94",
        "colab_type": "text"
      },
      "source": [
        "https://github.com/PabloPerez63/03MAIR---Algoritmos-de-Optimizacion---2019/blob/master/N4_2_Algoritmo_APRIORI(1).ipynb"
      ]
    },
    {
      "cell_type": "code",
      "metadata": {
        "id": "CB98Wk7NvzKg",
        "colab_type": "code",
        "colab": {}
      },
      "source": [
        "import numpy as np\n",
        "\n",
        "def generarC1(S):\n",
        "    C1 = []\n",
        "    for transaccion in S:\n",
        "        for item in transaccion:\n",
        "            if [item] not in C1:\n",
        "                C1.append([item])\n",
        "                \n",
        "    C1.sort()\n",
        "    return list(map(frozenset, C1)) # usando un `frozenset´ podemos usarlo como una `key´ de un diccionario"
      ],
      "execution_count": 0,
      "outputs": []
    },
    {
      "cell_type": "markdown",
      "metadata": {
        "id": "Vxmjbv38vzKj",
        "colab_type": "text"
      },
      "source": [
        "\n",
        "Hagamos una prueba con este pequeño conjunto de transacciones:\n"
      ]
    },
    {
      "cell_type": "code",
      "metadata": {
        "id": "YylWJbbJvzKj",
        "colab_type": "code",
        "outputId": "93e356f4-812a-46d7-a230-532e2fba02d1",
        "colab": {
          "base_uri": "https://localhost:8080/",
          "height": 35
        }
      },
      "source": [
        "transacciones = np.array([[2, 3, 4], \n",
        "                          [1, 2, 5], \n",
        "                          [1, 2, 3, 5], \n",
        "                          [1, 5]])\n",
        "\n",
        "print(generarC1(transacciones))"
      ],
      "execution_count": 2,
      "outputs": [
        {
          "output_type": "stream",
          "text": [
            "[frozenset({1}), frozenset({2}), frozenset({3}), frozenset({4}), frozenset({5})]\n"
          ],
          "name": "stdout"
        }
      ]
    },
    {
      "cell_type": "markdown",
      "metadata": {
        "id": "FEQRCsjpvzKl",
        "colab_type": "text"
      },
      "source": [
        "Todos los conjuntos de tamaño 1 que superan el umbral $minS$ se combinan para crear conjuntos de tamaño $2$, los cuales también son testeados en busca de aquellos que superan también este umbral, $minS$.\n",
        "\n",
        "En general, todos aquellos conjuntos de la $i$-ésima iteración que superan el umbral de soporte $minS$ (conjuntos de tamaño $|X|=i$), en la siguiente iteración ($i+1$) del algoritmo, se combinan entre ellos para generar nuevos conjuntos de tamaño $i+1$. \n",
        "\n",
        "La siguiente función se usa para identificar los conjuntos que superan el umbral de soporte:"
      ]
    },
    {
      "cell_type": "code",
      "metadata": {
        "id": "96TcRdhpvzKm",
        "colab_type": "code",
        "colab": {}
      },
      "source": [
        "def filtraPorSoporte(S, Ck, minS):\n",
        "    conteo = {}\n",
        "    for tr in S:\n",
        "        for itemset in Ck:\n",
        "            if itemset.issubset(tr):\n",
        "                if itemset not in conteo: \n",
        "                    conteo[itemset] = 1\n",
        "                else: \n",
        "                    conteo[itemset] += 1\n",
        "    numItems = float(len(S))\n",
        "    Ck_minS = []\n",
        "    soporteCk = {}\n",
        "    for itemset in conteo:\n",
        "        soporte = conteo[itemset]/numItems ### TU CODIGO AQUI ###\n",
        "        if soporte >= minS:\n",
        "            Ck_minS.insert(0, itemset)\n",
        "        soporteCk[itemset] = soporte\n",
        "    return Ck_minS, soporteCk"
      ],
      "execution_count": 0,
      "outputs": []
    },
    {
      "cell_type": "markdown",
      "metadata": {
        "id": "-U9I_53VvzKo",
        "colab_type": "text"
      },
      "source": [
        "\n",
        "Podemos hacer el cálculo para obtener los conjuntos de tamaño 1 que ocurren en al menos el $50\\%$ de las transacciones del conjunto de entrenamiento:\n"
      ]
    },
    {
      "cell_type": "code",
      "metadata": {
        "id": "wvwS8oWdvzKo",
        "colab_type": "code",
        "colab": {
          "base_uri": "https://localhost:8080/",
          "height": 52
        },
        "outputId": "1770b6ee-285a-4be1-9855-cd52d6017665"
      },
      "source": [
        "S = list(map(set,transacciones))\n",
        "C1 = generarC1(transacciones)\n",
        "print(S)\n",
        "\n",
        "L1, soporteC1 = filtraPorSoporte(S,C1,0.5)\n",
        "print(L1)"
      ],
      "execution_count": 39,
      "outputs": [
        {
          "output_type": "stream",
          "text": [
            "[{2, 3, 4}, {1, 2, 5}, {1, 2, 3, 5}, {1, 5}]\n",
            "[frozenset({5}), frozenset({1}), frozenset({3}), frozenset({2})]\n"
          ],
          "name": "stdout"
        }
      ]
    },
    {
      "cell_type": "markdown",
      "metadata": {
        "id": "a68q0CzdvzKq",
        "colab_type": "text"
      },
      "source": [
        "\n",
        "Se puede ver que el ítem 4 sólo aparece en la primera transacción, por lo que no superó el umbral de soporte fijado.\n",
        "\n",
        "Probablemente la parte más sensible de este algoritmo consiste en generar los candidados (conjuntos de ítems) de una nueva iteración ($C_k$) dados los conjuntos frecuentes de la previa ($L_{k-1}$). \n",
        "\n",
        "Por ejemplo, dados los conjuntos frecuentes de la primera etapa $\\{1\\}$, $\\{2\\}$, $\\{3\\}$ y $\\{5\\}$, los candidados de tamaño 2 ($C_2$) serán:\n",
        "$\\{1,2\\}$, $\\{1,3\\}$, $\\{1,5\\}$, $\\{2,3\\}$, $\\{2,5\\}$ y $\\{3,5\\}$.\n",
        "\n",
        "En concreto, se podría hacer de la siguiente manera:\n"
      ]
    },
    {
      "cell_type": "code",
      "metadata": {
        "id": "TOYiUF_DvzKq",
        "colab_type": "code",
        "colab": {}
      },
      "source": [
        "def generarCk(Lk1, k):\n",
        "    Ck = []\n",
        "    lenLk1 = len(Lk1)\n",
        "    for i in range(lenLk1):\n",
        "        for j in range(i+1, lenLk1): \n",
        "            L1 = list(Lk1[i])[:k-2]\n",
        "            L1.sort()\n",
        "            L2 = list(Lk1[j])[:k-2]\n",
        "            L2.sort()\n",
        "            if L1 == L2: # Si los primeros k-2 elementos son los mismos\n",
        "                Ck.append(Lk1[i] | Lk1[j]) # hacemos la union de ambos conjuntos\n",
        "    return Ck"
      ],
      "execution_count": 0,
      "outputs": []
    },
    {
      "cell_type": "markdown",
      "metadata": {
        "id": "n0IQfS-CvzKs",
        "colab_type": "text"
      },
      "source": [
        "\n",
        "Se puede comprobar que el resultado cuadra con lo esperado:\n"
      ]
    },
    {
      "cell_type": "code",
      "metadata": {
        "id": "5A_6ab-KvzKs",
        "colab_type": "code",
        "colab": {
          "base_uri": "https://localhost:8080/",
          "height": 52
        },
        "outputId": "c3832468-d26b-40c0-9770-f6eabd9542a1"
      },
      "source": [
        "print('Conjuntos candidatos de tamaño 2,\\nC2 =', generarCk(L1,2))"
      ],
      "execution_count": 22,
      "outputs": [
        {
          "output_type": "stream",
          "text": [
            "Conjuntos candidatos de tamaño 2,\n",
            "C2 = [frozenset({1, 5}), frozenset({3, 5}), frozenset({2, 5}), frozenset({1, 3}), frozenset({1, 2}), frozenset({2, 3})]\n"
          ],
          "name": "stdout"
        }
      ]
    },
    {
      "cell_type": "markdown",
      "metadata": {
        "id": "921Wm21xvzKu",
        "colab_type": "text"
      },
      "source": [
        "\n",
        "Por último, sólo faltaría definir la función principal del algoritmo que itera entre la formación de conjuntos candidatos y el filtrado de aquellos que cumplen los requisitos de soporte mínimo:\n"
      ]
    },
    {
      "cell_type": "code",
      "metadata": {
        "id": "zWNoGIIAvzKu",
        "colab_type": "code",
        "colab": {}
      },
      "source": [
        "def apriori(transacciones, minS = 0.5):\n",
        "    S = list(map(set, transacciones))\n",
        "    C1 = generarC1(transacciones)\n",
        "    L1, soporteItemSets = filtraPorSoporte(S, C1, minS)\n",
        "    L = [L1]\n",
        "    k = 2\n",
        "    while (len(L[k-2]) > 0):\n",
        "        Ck = generarCk(L[k-2], k)\n",
        "        Lk, soporteCk = filtraPorSoporte(S, Ck, minS)\n",
        "        soporteItemSets.update(soporteCk)\n",
        "        L.append(Lk)\n",
        "        k += 1\n",
        "    return L, soporteItemSets"
      ],
      "execution_count": 0,
      "outputs": []
    },
    {
      "cell_type": "markdown",
      "metadata": {
        "id": "XWxghkihvzKw",
        "colab_type": "text"
      },
      "source": [
        "\n",
        "Podemos finalmente buscar todos los conjuntos frecuentes (en este caso, soporte mínimo de $50\\%$) de $S$ haciendo la siguiente llamada;"
      ]
    },
    {
      "cell_type": "code",
      "metadata": {
        "id": "USouONszvzKx",
        "colab_type": "code",
        "colab": {
          "base_uri": "https://localhost:8080/",
          "height": 87
        },
        "outputId": "b182feae-8f59-4289-92b7-021ce553df06"
      },
      "source": [
        "L, soporteCk = apriori(transacciones)\n",
        "\n",
        "print('Conjuntos frecuentes de tamaño 1:',L[0])\n",
        "print('Conjuntos frecuentes de tamaño 2:',L[1])\n",
        "print('Conjuntos frecuentes de tamaño 3:',L[2])\n",
        "print('Conjuntos frecuentes de tamaño 4:',L[3])"
      ],
      "execution_count": 24,
      "outputs": [
        {
          "output_type": "stream",
          "text": [
            "Conjuntos frecuentes de tamaño 1: [frozenset({5}), frozenset({1}), frozenset({3}), frozenset({2})]\n",
            "Conjuntos frecuentes de tamaño 2: [frozenset({1, 2}), frozenset({2, 5}), frozenset({1, 5}), frozenset({2, 3})]\n",
            "Conjuntos frecuentes de tamaño 3: [frozenset({1, 2, 5})]\n",
            "Conjuntos frecuentes de tamaño 4: []\n"
          ],
          "name": "stdout"
        }
      ]
    },
    {
      "cell_type": "markdown",
      "metadata": {
        "id": "7VraHo1HvzKy",
        "colab_type": "text"
      },
      "source": [
        "\n",
        "<hr /> \n",
        "\n",
        "<center><h1>Obtener reglas de asociación a partir de conjuntos frecuentes</h1></center>\n",
        "\n",
        "En teoría hemos visto cómo encontrar una serie de conjuntos frecuentes de ítems. Dado un conjunto frecuente, se puede generar una regla de asociación de la siguiente manera.\n",
        "\n",
        "Se trata de recorrer todo el listado de conjuntos frecuentes y estudiar la conveniencia de nuevas reglas dado un valor mínimo de confianza:\n"
      ]
    },
    {
      "cell_type": "code",
      "metadata": {
        "id": "lAhxdFMGvzKy",
        "colab_type": "code",
        "colab": {}
      },
      "source": [
        "def generarReglas(L, soporteItemSets, minC=0.7):\n",
        "    lReglas = []\n",
        "    # para crear reglas, sólo podemos considerar conjuntos de tamaño 2 o mayor\n",
        "    if (len(L) == 1):\n",
        "        return lReglas\n",
        "    for i in range(1, len(L)): \n",
        "        for itemset in L[i]:\n",
        "            H1 = [frozenset([item]) for item in itemset]\n",
        "            nuevasReglas = reglasConfianzaMinima(itemset, H1, soporteItemSets, minC)\n",
        "            if (len(nuevasReglas) > 0):\n",
        "                lReglas = lReglas+nuevasReglas\n",
        "    return lReglas"
      ],
      "execution_count": 0,
      "outputs": []
    },
    {
      "cell_type": "markdown",
      "metadata": {
        "id": "pU43SeRovzK0",
        "colab_type": "text"
      },
      "source": [
        "\n",
        "Dado un conjunto frecuente $A$ de ítems específico (de tamaño $>2$), recorreremos todos los elementos $e\\in A$ y consideraremos la conveniencia de cada regla $A\\backslash e \\to e$, para lo que calcularemos el valor de confianza de la siguiente manera:\n",
        "\n",
        "$$confianza(A\\backslash e \\to e;S)=\\frac{soporte(A;S)}{soporte(A\\backslash e;S)}$$\n",
        "\n",
        "Así, la función puede definirse como:\n"
      ]
    },
    {
      "cell_type": "code",
      "metadata": {
        "id": "pIE-EQ9MvzK0",
        "colab_type": "code",
        "colab": {}
      },
      "source": [
        "def reglasConfianzaMinima(itemset, H, soporteItemSets, minC=0.7):\n",
        "    lReglas = []\n",
        "    for consecuente in H:\n",
        "        # Calcular confianza\n",
        "        itemsetSINcons = itemset-consecuente\n",
        "        conf = soporteItemSets[itemset]/soporteItemSets[itemsetSINcons] ### TU CODIGO AQUI ###\n",
        "        if conf >= minC: \n",
        "            print(itemset-consecuente,'-->',consecuente,'con confianza:',conf)\n",
        "            lReglas.append((itemset-consecuente, consecuente, conf))\n",
        "    return lReglas"
      ],
      "execution_count": 0,
      "outputs": []
    },
    {
      "cell_type": "markdown",
      "metadata": {
        "id": "W0qQtS0yvzK2",
        "colab_type": "text"
      },
      "source": [
        "\n",
        "Finalmente, podemos buscar las reglas que tengan un mínimo de confianza del $70\\%$:\n"
      ]
    },
    {
      "cell_type": "code",
      "metadata": {
        "id": "gKowdQXkvzK2",
        "colab_type": "code",
        "colab": {
          "base_uri": "https://localhost:8080/",
          "height": 139
        },
        "outputId": "a84490a2-3839-42b9-8933-f014eec1232f"
      },
      "source": [
        "reglas = generarReglas(L, soporteCk, minC=0.7)\n",
        "\n",
        "print('\\nLa confianza de la primera regla es:',reglas[0][2])"
      ],
      "execution_count": 53,
      "outputs": [
        {
          "output_type": "stream",
          "text": [
            "frozenset({5}) --> frozenset({1}) con confianza: 1.0\n",
            "frozenset({1}) --> frozenset({5}) con confianza: 1.0\n",
            "frozenset({3}) --> frozenset({2}) con confianza: 1.0\n",
            "frozenset({2, 5}) --> frozenset({1}) con confianza: 1.0\n",
            "frozenset({1, 2}) --> frozenset({5}) con confianza: 1.0\n",
            "\n",
            "La confianza de la primera regla es: 1.0\n"
          ],
          "name": "stdout"
        }
      ]
    },
    {
      "cell_type": "markdown",
      "metadata": {
        "id": "rIcl9388vzK4",
        "colab_type": "text"
      },
      "source": [
        "\n",
        "Es curioso el hecho de que girando la regla $5 \\to 1$ obtenemos otra regla con la confianza requerida y, sin embargo, al hacer lo mismo con la regla $3\\to 2$, la regla resultante no supera el umbral marcado.\n"
      ]
    },
    {
      "cell_type": "markdown",
      "metadata": {
        "id": "0dgCcbROvzK4",
        "colab_type": "text"
      },
      "source": [
        "<hr />\n",
        "\n",
        "<center><h1>Librerias de Python</h1></center>\n",
        "\n",
        "Una librería interesante que incluye el algoritmo Apriori es <b>apyori</b> (hay que descargarlo con `!wget https://raw.githubusercontent.com/ymoch/apyori/master/apyori.py`). Veamos como funciona.\n",
        "\n",
        "Para empezar, cargamos las librerías necesarias y el conjunto de transacciones que usaremos:\n"
      ]
    },
    {
      "cell_type": "code",
      "metadata": {
        "id": "u6yA48fnwOzl",
        "colab_type": "code",
        "outputId": "263fad0e-ba94-467b-8975-0612359aedba",
        "colab": {
          "base_uri": "https://localhost:8080/",
          "height": 391
        }
      },
      "source": [
        "!wget https://raw.githubusercontent.com/ymoch/apyori/master/apyori.py\n",
        "!wget https://raw.githubusercontent.com/flifuehu/viu-unsupervised-learning/master/datasets/apriori/store_data.csv"
      ],
      "execution_count": 0,
      "outputs": [
        {
          "output_type": "stream",
          "text": [
            "--2019-12-27 01:01:15--  https://raw.githubusercontent.com/ymoch/apyori/master/apyori.py\n",
            "Resolving raw.githubusercontent.com (raw.githubusercontent.com)... 151.101.0.133, 151.101.64.133, 151.101.128.133, ...\n",
            "Connecting to raw.githubusercontent.com (raw.githubusercontent.com)|151.101.0.133|:443... connected.\n",
            "HTTP request sent, awaiting response... 200 OK\n",
            "Length: 14558 (14K) [text/plain]\n",
            "Saving to: ‘apyori.py’\n",
            "\n",
            "\rapyori.py             0%[                    ]       0  --.-KB/s               \rapyori.py           100%[===================>]  14.22K  --.-KB/s    in 0.01s   \n",
            "\n",
            "2019-12-27 01:01:15 (1.18 MB/s) - ‘apyori.py’ saved [14558/14558]\n",
            "\n",
            "--2019-12-27 01:01:16--  https://raw.githubusercontent.com/flifuehu/viu-unsupervised-learning/master/datasets/apriori/store_data.csv\n",
            "Resolving raw.githubusercontent.com (raw.githubusercontent.com)... 151.101.0.133, 151.101.64.133, 151.101.128.133, ...\n",
            "Connecting to raw.githubusercontent.com (raw.githubusercontent.com)|151.101.0.133|:443... connected.\n",
            "HTTP request sent, awaiting response... 200 OK\n",
            "Length: 302908 (296K) [text/plain]\n",
            "Saving to: ‘store_data.csv’\n",
            "\n",
            "store_data.csv      100%[===================>] 295.81K  --.-KB/s    in 0.05s   \n",
            "\n",
            "2019-12-27 01:01:16 (5.83 MB/s) - ‘store_data.csv’ saved [302908/302908]\n",
            "\n"
          ],
          "name": "stdout"
        }
      ]
    },
    {
      "cell_type": "code",
      "metadata": {
        "id": "TnKNbv0pvzK4",
        "colab_type": "code",
        "colab": {}
      },
      "source": [
        "import pandas as pd  \n",
        "from apyori import apriori  \n",
        "\n",
        "matriz_datos = pd.read_csv('store_data.csv', header=None)"
      ],
      "execution_count": 0,
      "outputs": []
    },
    {
      "cell_type": "markdown",
      "metadata": {
        "id": "Ib8SsGBvvzK6",
        "colab_type": "text"
      },
      "source": [
        "\n",
        "El algoritmo necesita que las transacciones se le pasen como una lista de listas, por lo que el primer paso es transformar la matriz de datos anterior en una lista de ese estilo:\n"
      ]
    },
    {
      "cell_type": "code",
      "metadata": {
        "id": "u6nRExQbvzK6",
        "colab_type": "code",
        "colab": {}
      },
      "source": [
        "transacciones = []  \n",
        "for i in np.arange(matriz_datos.shape[0]):  \n",
        "    transacciones.append([str(matriz_datos.values[i,j]) \n",
        "                          for j in np.arange(matriz_datos.shape[1])\n",
        "                          if str(matriz_datos.values[i,j]) != 'nan'])"
      ],
      "execution_count": 0,
      "outputs": []
    },
    {
      "cell_type": "markdown",
      "metadata": {
        "id": "2lZot0oWvzK8",
        "colab_type": "text"
      },
      "source": [
        "\n",
        "Podemos inspeccionar unas pocas transacciones para ver cómo lucen:\n"
      ]
    },
    {
      "cell_type": "code",
      "metadata": {
        "id": "seb1BSIGvzK9",
        "colab_type": "code",
        "outputId": "f0800d91-535f-40fe-fc93-db78a76cda56",
        "colab": {
          "base_uri": "https://localhost:8080/",
          "height": 173
        }
      },
      "source": [
        "for i in np.arange(8):\n",
        "    print(' + Transacción',i+1,':',', '.join(transacciones[i]))"
      ],
      "execution_count": 0,
      "outputs": [
        {
          "output_type": "stream",
          "text": [
            " + Transacción 1 : shrimp, almonds, avocado, vegetables mix, green grapes, whole weat flour, yams, cottage cheese, energy drink, tomato juice, low fat yogurt, green tea, honey, salad, mineral water, salmon, antioxydant juice, frozen smoothie, spinach, olive oil\n",
            " + Transacción 2 : burgers, meatballs, eggs\n",
            " + Transacción 3 : chutney\n",
            " + Transacción 4 : turkey, avocado\n",
            " + Transacción 5 : mineral water, milk, energy bar, whole wheat rice, green tea\n",
            " + Transacción 6 : low fat yogurt\n",
            " + Transacción 7 : whole wheat pasta, french fries\n",
            " + Transacción 8 : soup, light cream, shallot\n"
          ],
          "name": "stdout"
        }
      ]
    },
    {
      "cell_type": "markdown",
      "metadata": {
        "id": "ZQtXyeKyvzK-",
        "colab_type": "text"
      },
      "source": [
        "\n",
        "Con estas transacciones, ya podemos aplicar el algoritmo Apriori dados unos requisitos de soporte y confianza mínimas:\n"
      ]
    },
    {
      "cell_type": "code",
      "metadata": {
        "id": "IzVcG3AzvzK-",
        "colab_type": "code",
        "colab": {}
      },
      "source": [
        "lReglas = apriori(transacciones, min_support=0.005, min_confidence=0.5)"
      ],
      "execution_count": 0,
      "outputs": []
    },
    {
      "cell_type": "markdown",
      "metadata": {
        "id": "wqX8uzf6vzLA",
        "colab_type": "text"
      },
      "source": [
        "\n",
        "En este caso, también podríamos fijar la métrica <i>Lift</i>.\n",
        "\n",
        "Podemos observar las reglas resultantes:\n"
      ]
    },
    {
      "cell_type": "code",
      "metadata": {
        "id": "HklflHc1vzLB",
        "colab_type": "code",
        "outputId": "ed882c72-9957-4992-f989-aab3e110bf0d",
        "colab": {
          "base_uri": "https://localhost:8080/",
          "height": 88
        }
      },
      "source": [
        "lReglas = list(lReglas) \n",
        "print('Se han encontrado',len(lReglas),'reglas con los requisitos impuestos')\n",
        "print('La primera regla es:\\n',lReglas[0])"
      ],
      "execution_count": 0,
      "outputs": [
        {
          "output_type": "stream",
          "text": [
            "Se han encontrado 20 reglas con los requisitos impuestos\n",
            "La primera regla es:\n",
            " RelationRecord(items=frozenset({'chocolate', 'mineral water', 'chicken'}), support=0.007598986801759766, ordered_statistics=[OrderedStatistic(items_base=frozenset({'chocolate', 'chicken'}), items_add=frozenset({'mineral water'}), confidence=0.5181818181818182, lift=2.1738712629652226)])\n"
          ],
          "name": "stdout"
        }
      ]
    },
    {
      "cell_type": "markdown",
      "metadata": {
        "id": "eRHHu9_fvzLE",
        "colab_type": "text"
      },
      "source": [
        "\n",
        "Podemos ver que tenemos muchísima información sobre la regla codificada en las respuestas.\n",
        "\n",
        "Si queremos hacer un recorrido por todas ellas, podemos hacerlo de la siguiente manera:\n"
      ]
    },
    {
      "cell_type": "code",
      "metadata": {
        "scrolled": true,
        "id": "8xCrtNw3vzLF",
        "colab_type": "code",
        "outputId": "879a11bc-1888-418e-b363-273ac95cdac2",
        "colab": {
          "base_uri": "https://localhost:8080/",
          "height": 1000
        }
      },
      "source": [
        "for item in lReglas:\n",
        "\n",
        "    par = [x for x in item[0]]\n",
        "    print(\"Regla: \" + par[0] + \" -> \" + par[1])\n",
        "\n",
        "    print(\" + Soporte:   {0:1.3f}\".format(item[1]))\n",
        "    print(\" + Confianza: {0:1.3f}\".format(item[2][0][2]))\n",
        "    print(\" + Lift:      {0:1.3f}\".format(item[2][0][3]))\n",
        "    print()"
      ],
      "execution_count": 0,
      "outputs": [
        {
          "output_type": "stream",
          "text": [
            "Regla: chocolate -> mineral water\n",
            " + Soporte:   0.008\n",
            " + Confianza: 0.518\n",
            " + Lift:      2.174\n",
            "\n",
            "Regla: chocolate -> mineral water\n",
            " + Soporte:   0.008\n",
            " + Confianza: 0.504\n",
            " + Lift:      2.115\n",
            "\n",
            "Regla: chocolate -> soup\n",
            " + Soporte:   0.006\n",
            " + Confianza: 0.553\n",
            " + Lift:      2.318\n",
            "\n",
            "Regla: mineral water -> cooking oil\n",
            " + Soporte:   0.006\n",
            " + Confianza: 0.545\n",
            " + Lift:      2.288\n",
            "\n",
            "Regla: ground beef -> mineral water\n",
            " + Soporte:   0.010\n",
            " + Confianza: 0.507\n",
            " + Lift:      2.126\n",
            "\n",
            "Regla: ground beef -> mineral water\n",
            " + Soporte:   0.009\n",
            " + Confianza: 0.543\n",
            " + Lift:      2.279\n",
            "\n",
            "Regla: spaghetti -> ground beef\n",
            " + Soporte:   0.009\n",
            " + Confianza: 0.512\n",
            " + Lift:      2.940\n",
            "\n",
            "Regla: mineral water -> frozen vegetables\n",
            " + Soporte:   0.007\n",
            " + Confianza: 0.576\n",
            " + Lift:      2.418\n",
            "\n",
            "Regla: soup -> mineral water\n",
            " + Soporte:   0.005\n",
            " + Confianza: 0.633\n",
            " + Lift:      2.657\n",
            "\n",
            "Regla: spaghetti -> frozen vegetables\n",
            " + Soporte:   0.006\n",
            " + Confianza: 0.506\n",
            " + Lift:      2.906\n",
            "\n",
            "Regla: ground beef -> mineral water\n",
            " + Soporte:   0.011\n",
            " + Confianza: 0.503\n",
            " + Lift:      2.110\n",
            "\n",
            "Regla: ground beef -> mineral water\n",
            " + Soporte:   0.007\n",
            " + Confianza: 0.514\n",
            " + Lift:      2.155\n",
            "\n",
            "Regla: ground beef -> mineral water\n",
            " + Soporte:   0.005\n",
            " + Confianza: 0.521\n",
            " + Lift:      2.184\n",
            "\n",
            "Regla: spaghetti -> shrimp\n",
            " + Soporte:   0.006\n",
            " + Confianza: 0.523\n",
            " + Lift:      3.005\n",
            "\n",
            "Regla: milk -> mineral water\n",
            " + Soporte:   0.009\n",
            " + Confianza: 0.500\n",
            " + Lift:      2.098\n",
            "\n",
            "Regla: milk -> mineral water\n",
            " + Soporte:   0.009\n",
            " + Confianza: 0.561\n",
            " + Lift:      2.355\n",
            "\n",
            "Regla: turkey -> milk\n",
            " + Soporte:   0.006\n",
            " + Confianza: 0.541\n",
            " + Lift:      2.270\n",
            "\n",
            "Regla: soup -> mineral water\n",
            " + Soporte:   0.005\n",
            " + Confianza: 0.582\n",
            " + Lift:      2.442\n",
            "\n",
            "Regla: spaghetti -> mineral water\n",
            " + Soporte:   0.007\n",
            " + Confianza: 0.505\n",
            " + Lift:      2.118\n",
            "\n",
            "Regla: spaghetti -> soup\n",
            " + Soporte:   0.007\n",
            " + Confianza: 0.523\n",
            " + Lift:      2.196\n",
            "\n"
          ],
          "name": "stdout"
        }
      ]
    },
    {
      "cell_type": "code",
      "metadata": {
        "id": "9yKtSLi8vzLH",
        "colab_type": "code",
        "colab": {}
      },
      "source": [
        ""
      ],
      "execution_count": 0,
      "outputs": []
    }
  ]
}