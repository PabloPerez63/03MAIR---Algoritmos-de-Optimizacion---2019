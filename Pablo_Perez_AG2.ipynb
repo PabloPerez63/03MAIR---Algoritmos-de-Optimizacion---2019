{
  "nbformat": 4,
  "nbformat_minor": 0,
  "metadata": {
    "colab": {
      "name": "Pablo_Perez_AG2.ipynb",
      "version": "0.3.2",
      "provenance": [],
      "include_colab_link": true
    },
    "kernelspec": {
      "name": "python3",
      "display_name": "Python 3"
    }
  },
  "cells": [
    {
      "cell_type": "markdown",
      "metadata": {
        "id": "view-in-github",
        "colab_type": "text"
      },
      "source": [
        "<a href=\"https://colab.research.google.com/github/PabloPerez63/03MAIR---Algoritmos-de-Optimizacion---2019/blob/master/Pablo_Perez_AG2.ipynb\" target=\"_parent\"><img src=\"https://colab.research.google.com/assets/colab-badge.svg\" alt=\"Open In Colab\"/></a>"
      ]
    },
    {
      "cell_type": "code",
      "metadata": {
        "id": "nhRkxBzworGT",
        "colab_type": "code",
        "colab": {}
      },
      "source": [
        "# Nombre : Pablo Perez \n",
        "\n",
        "# URL :  https://colab.research.google.com/drive/1SNLNYuHtCMWw9n4atwxpeUMDwIq8CdnB"
      ],
      "execution_count": 0,
      "outputs": []
    },
    {
      "cell_type": "code",
      "metadata": {
        "id": "_bv-usbwwKyL",
        "colab_type": "code",
        "colab": {}
      },
      "source": [
        "# Viaje por el rio Programacion Dinamica "
      ],
      "execution_count": 0,
      "outputs": []
    },
    {
      "cell_type": "code",
      "metadata": {
        "id": "Yv-45DsHp3xO",
        "colab_type": "code",
        "colab": {}
      },
      "source": [
        "TARIFAS = [\n",
        "[0,5,4,3,999,999,999],\n",
        "[999,0,999,2,3,999,11],\n",
        "[999,999, 0,1,999,4,10],\n",
        "[999,999,999, 0,5,6,9],\n",
        "[999,999, 999,999,0,999,4],\n",
        "[999,999, 999,999,999,0,3],\n",
        "[999,999,999,999,999,999,0]\n",
        "]"
      ],
      "execution_count": 0,
      "outputs": []
    },
    {
      "cell_type": "code",
      "metadata": {
        "id": "DgIaz8WqpEQo",
        "colab_type": "code",
        "colab": {
          "base_uri": "https://localhost:8080/",
          "height": 89
        },
        "outputId": "00a8c76a-3dd3-4edd-c024-71827fb76a04"
      },
      "source": [
        "def Precios(TARIFAS):\n",
        "  \n",
        "  N= len(TARIFAS[0])\n",
        "  \n",
        "  PRECIOS = [ [9999]*N for i in [9999]*N]\n",
        "  RUTA = [ [\"\"]*N for i in [\"\"]*N]\n",
        "\n",
        "  \n",
        "  for i in range(N-1):\n",
        "    for j in range (i+1,N):\n",
        "      MIN = TARIFAS[i][j]\n",
        "      RUTA[i][j] = i\n",
        "      \n",
        "      for k in range(i,j):\n",
        "         if PRECIOS[i][k] + TARIFAS[k][j] < MIN:\n",
        "            MIN = PRECIOS[i][k] + TARIFAS[k][j]\n",
        "            RUTA[i][j] =k\n",
        "      PRECIOS[i][j] = MIN\n",
        "      \n",
        "  return PRECIOS, RUTA   \n",
        "      \n",
        "PRECIOS,RUTA=Precios(TARIFAS)\n",
        "\n",
        "print (PRECIOS)\n",
        "print (RUTA)\n",
        "\n",
        "def calcular_ruta(RUTA, desde, hasta):\n",
        "  if desde == hasta:\n",
        "     return desde\n",
        "  else:\n",
        "    return str(calcular_ruta(RUTA, desde, RUTA[desde][hasta] )) + '-' + str (RUTA[desde][hasta])\n",
        "  \n",
        "calcular_ruta(RUTA, 0,6)"
      ],
      "execution_count": 13,
      "outputs": [
        {
          "output_type": "stream",
          "text": [
            "[[9999, 5, 4, 3, 8, 8, 11], [9999, 9999, 999, 2, 3, 8, 7], [9999, 9999, 9999, 1, 6, 4, 7], [9999, 9999, 9999, 9999, 5, 6, 9], [9999, 9999, 9999, 9999, 9999, 999, 4], [9999, 9999, 9999, 9999, 9999, 9999, 3], [9999, 9999, 9999, 9999, 9999, 9999, 9999]]\n",
            "[['', 0, 0, 0, 1, 2, 5], ['', '', 1, 1, 1, 3, 4], ['', '', '', 2, 3, 2, 5], ['', '', '', '', 3, 3, 3], ['', '', '', '', '', 4, 4], ['', '', '', '', '', '', 5], ['', '', '', '', '', '', '']]\n"
          ],
          "name": "stdout"
        },
        {
          "output_type": "execute_result",
          "data": {
            "text/plain": [
              "'0-0-2-5'"
            ]
          },
          "metadata": {
            "tags": []
          },
          "execution_count": 13
        }
      ]
    },
    {
      "cell_type": "code",
      "metadata": {
        "id": "hOaGBHo7-dDI",
        "colab_type": "code",
        "colab": {}
      },
      "source": [
        "# Asignacion de Tareas  Ramificacion y Poda "
      ],
      "execution_count": 0,
      "outputs": []
    },
    {
      "cell_type": "code",
      "metadata": {
        "id": "TZZSHrsg-jFF",
        "colab_type": "code",
        "colab": {}
      },
      "source": [
        "import itertools\n",
        "from functools import wraps\n",
        "\n",
        "def calcular_tiempo(f):\n",
        "    @wraps(f)\n",
        "    def cronometro(*args, **kwargs):\n",
        "        t_inicial = time()\n",
        "        salida = f(*args, **kwargs)\n",
        "        t_final = time()\n",
        "        print('Tiempo transcurrido (en segundos): {}'.format(t_final - t_inicial))\n",
        "        return salida\n",
        "    return cronometro"
      ],
      "execution_count": 0,
      "outputs": []
    },
    {
      "cell_type": "code",
      "metadata": {
        "id": "DlfhpFnm-jTE",
        "colab_type": "code",
        "colab": {}
      },
      "source": [
        "COSTES=[[11,12,18,40],\n",
        "        [14,15,13,22],\n",
        "        [11,17,19,23],\n",
        "        [17,14,20,28]]"
      ],
      "execution_count": 0,
      "outputs": []
    },
    {
      "cell_type": "code",
      "metadata": {
        "id": "kwMGjo25Bkm3",
        "colab_type": "code",
        "colab": {
          "base_uri": "https://localhost:8080/",
          "height": 35
        },
        "outputId": "74a35ffa-a54e-478f-d49d-74b4722b062a"
      },
      "source": [
        "def valor (S, COSTES):\n",
        "  VALOR= 0\n",
        "  for i in range(len(S)):\n",
        "    VALOR += COSTES[S[i]][i]\n",
        "  \n",
        "  \n",
        "  return VALOR\n",
        "\n",
        "valor((0,1,2,3), COSTES)\n",
        "\n"
      ],
      "execution_count": 27,
      "outputs": [
        {
          "output_type": "execute_result",
          "data": {
            "text/plain": [
              "73"
            ]
          },
          "metadata": {
            "tags": []
          },
          "execution_count": 27
        }
      ]
    },
    {
      "cell_type": "code",
      "metadata": {
        "id": "zJ5tJl7AEZSm",
        "colab_type": "code",
        "colab": {
          "base_uri": "https://localhost:8080/",
          "height": 35
        },
        "outputId": "3385edd9-e1a5-4a53-f20d-cc222765f09d"
      },
      "source": [
        "def fuerza_bruta(COSTES):\n",
        "  mejor_valor=10e10\n",
        "  mejor_solucion = ()  \n",
        "  \n",
        "  for S in list(itertools.permutations(range(len(COSTES)))):\n",
        "    valor_tmp = valor(S, COSTES)\n",
        "    if valor_tmp < mejor_valor:\n",
        "      mejor_solucion = S\n",
        "      mejor_valor = valor_tmp\n",
        "      \n",
        "  print (mejor_solucion)\n",
        "\n",
        "fuerza_bruta(COSTES)"
      ],
      "execution_count": 43,
      "outputs": [
        {
          "output_type": "stream",
          "text": [
            "(0, 3, 1, 2)\n"
          ],
          "name": "stdout"
        }
      ]
    },
    {
      "cell_type": "code",
      "metadata": {
        "id": "Ad4c_pmjFmw7",
        "colab_type": "code",
        "colab": {
          "base_uri": "https://localhost:8080/",
          "height": 35
        },
        "outputId": "b519281d-80fb-4f19-f60c-7bd187cc07d4"
      },
      "source": [
        "def CI(S, COSTES):\n",
        "  VALOR = 0\n",
        "  \n",
        "  for i in range(len(S)):\n",
        "    VALOR += COSTES[i][S[i]]\n",
        "    \n",
        "  # Estimaciones\n",
        "  for i in range(len(COSTES)):\n",
        "    if i not in S:\n",
        "      VALOR += min([ COSTES[j][i] for j in range(len(S), len(COSTES)) ])\n",
        "  \n",
        "  return VALOR\n",
        "  \n",
        "CI((2,0), COSTES) \n",
        "\n",
        "\n",
        "# (0,2) > (0,2,1),(0,2,3)\n",
        "\n",
        "\n",
        "def crear_hijos(NODO,N):\n",
        "  HIJOS =[]\n",
        "  for i in range(N):\n",
        "    if i not in NODO:\n",
        "      HIJOS.append( {'s':NODO+(i,)})\n",
        "      \n",
        "  return HIJOS\n",
        "\n",
        "crear_hijos((0,2) ,4)"
      ],
      "execution_count": 50,
      "outputs": [
        {
          "output_type": "execute_result",
          "data": {
            "text/plain": [
              "[{'s': (0, 2, 1)}, {'s': (0, 2, 3)}]"
            ]
          },
          "metadata": {
            "tags": []
          },
          "execution_count": 50
        }
      ]
    },
    {
      "cell_type": "code",
      "metadata": {
        "id": "luEl6pqOT5WY",
        "colab_type": "code",
        "colab": {
          "base_uri": "https://localhost:8080/",
          "height": 783
        },
        "outputId": "a6bce9ae-45ca-4749-88e8-565ffd0f0701"
      },
      "source": [
        "def ramificacion_y_poda(COSTES):\n",
        "  DIMENSION = len (COSTES)\n",
        "  # (0,1,2,3)\n",
        "  MEJOR_SOLUCION = tuple(i for i in range(DIMENSION))\n",
        "  \n",
        "  CotaSup = valor(MEJOR_SOLUCION,COSTES)\n",
        "  \n",
        "  NODOS=[]\n",
        "  NODOS.append({'s':(),'ci': CI((),COSTES)})\n",
        "  \n",
        "   \n",
        "   \n",
        "  iteracion = 0\n",
        "  \n",
        "  while (len(NODOS) > 0):\n",
        "    iteracion +=1\n",
        "    print ('\\n#',iteracion)\n",
        "    \n",
        "    nodo_prometedor = min(NODOS, key=lambda x:x['ci'])\n",
        "  \n",
        "    # Hijos\n",
        "    HIJOS = [{'s':x['s'], 'ci':CI(x['s'], COSTES)}  for x in crear_hijos(nodo_prometedor['s'],DIMENSION)]\n",
        "\n",
        "    NODO_FINAL = [x for x in HIJOS if len(x['s']) == DIMENSION ]\n",
        "    if len(NODO_FINAL) >0 :\n",
        "      if NODO_FINAL[0]['ci'] < CotaSup:\n",
        "        CotaSup = NODO_FINAL[0]['ci']\n",
        "        MEJOR_SOLUCION = NODO_FINAL[0]\n",
        "    \n",
        "    \n",
        "    # Poda\n",
        "    HIJOS = [x for x in HIJOS if x['ci']< CotaSup ]\n",
        "    \n",
        "    #print(nodo_prometedor)\n",
        "    # Eliminamos el nodo expandido \n",
        "    NODOS = [x for x in NODOS if x['s'] != nodo_prometedor['s'] ]\n",
        "    \n",
        "    # Añadimos los hijos\n",
        "    NODOS.extend(HIJOS)\n",
        "  \n",
        "    print(NODOS) \n",
        "  \n",
        "  return HIJOS\n",
        "  \n",
        "  print(\"La mejor solucion es:\",MEJOR_SOLUCION) \n",
        "  \n",
        "ramificacion_y_poda(COSTES)  "
      ],
      "execution_count": 80,
      "outputs": [
        {
          "output_type": "stream",
          "text": [
            "\n",
            "# 1\n",
            "[{'s': (0,), 'ci': 60}, {'s': (1,), 'ci': 58}, {'s': (2,), 'ci': 65}]\n",
            "\n",
            "# 2\n",
            "[{'s': (0,), 'ci': 60}, {'s': (2,), 'ci': 65}, {'s': (1, 0), 'ci': 68}, {'s': (1, 2), 'ci': 59}, {'s': (1, 3), 'ci': 64}]\n",
            "\n",
            "# 3\n",
            "[{'s': (0,), 'ci': 60}, {'s': (2,), 'ci': 65}, {'s': (1, 0), 'ci': 68}, {'s': (1, 3), 'ci': 64}, {'s': (1, 2, 0), 'ci': 64}, {'s': (1, 2, 3), 'ci': 65}]\n",
            "\n",
            "# 4\n",
            "[{'s': (2,), 'ci': 65}, {'s': (1, 0), 'ci': 68}, {'s': (1, 3), 'ci': 64}, {'s': (1, 2, 0), 'ci': 64}, {'s': (1, 2, 3), 'ci': 65}, {'s': (0, 1), 'ci': 68}, {'s': (0, 2), 'ci': 61}, {'s': (0, 3), 'ci': 66}]\n",
            "\n",
            "# 5\n",
            "[{'s': (2,), 'ci': 65}, {'s': (1, 0), 'ci': 68}, {'s': (1, 3), 'ci': 64}, {'s': (1, 2, 0), 'ci': 64}, {'s': (1, 2, 3), 'ci': 65}, {'s': (0, 1), 'ci': 68}, {'s': (0, 3), 'ci': 66}, {'s': (0, 2, 1), 'ci': 69}, {'s': (0, 2, 3), 'ci': 61}]\n",
            "\n",
            "# 6\n",
            "[{'s': (2,), 'ci': 65}, {'s': (1, 0), 'ci': 68}, {'s': (1, 3), 'ci': 64}, {'s': (1, 2, 0), 'ci': 64}, {'s': (1, 2, 3), 'ci': 65}, {'s': (0, 1), 'ci': 68}, {'s': (0, 3), 'ci': 66}, {'s': (0, 2, 1), 'ci': 69}]\n",
            "\n",
            "# 7\n",
            "[{'s': (2,), 'ci': 65}, {'s': (1, 0), 'ci': 68}, {'s': (1, 2, 0), 'ci': 64}, {'s': (1, 2, 3), 'ci': 65}, {'s': (0, 1), 'ci': 68}, {'s': (0, 3), 'ci': 66}, {'s': (0, 2, 1), 'ci': 69}]\n",
            "\n",
            "# 8\n",
            "[{'s': (2,), 'ci': 65}, {'s': (1, 0), 'ci': 68}, {'s': (1, 2, 3), 'ci': 65}, {'s': (0, 1), 'ci': 68}, {'s': (0, 3), 'ci': 66}, {'s': (0, 2, 1), 'ci': 69}]\n",
            "\n",
            "# 9\n",
            "[{'s': (1, 0), 'ci': 68}, {'s': (1, 2, 3), 'ci': 65}, {'s': (0, 1), 'ci': 68}, {'s': (0, 3), 'ci': 66}, {'s': (0, 2, 1), 'ci': 69}]\n",
            "\n",
            "# 10\n",
            "[{'s': (1, 0), 'ci': 68}, {'s': (0, 1), 'ci': 68}, {'s': (0, 3), 'ci': 66}, {'s': (0, 2, 1), 'ci': 69}]\n",
            "\n",
            "# 11\n",
            "[{'s': (1, 0), 'ci': 68}, {'s': (0, 1), 'ci': 68}, {'s': (0, 2, 1), 'ci': 69}]\n",
            "\n",
            "# 12\n",
            "[{'s': (0, 1), 'ci': 68}, {'s': (0, 2, 1), 'ci': 69}]\n",
            "\n",
            "# 13\n",
            "[{'s': (0, 2, 1), 'ci': 69}]\n",
            "\n",
            "# 14\n",
            "[]\n"
          ],
          "name": "stdout"
        },
        {
          "output_type": "execute_result",
          "data": {
            "text/plain": [
              "[]"
            ]
          },
          "metadata": {
            "tags": []
          },
          "execution_count": 80
        }
      ]
    }
  ]
}