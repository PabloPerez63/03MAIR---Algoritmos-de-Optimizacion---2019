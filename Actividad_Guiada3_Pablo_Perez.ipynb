{
  "nbformat": 4,
  "nbformat_minor": 0,
  "metadata": {
    "colab": {
      "name": "Actividad Guiada3 Pablo Perez.ipynb",
      "version": "0.3.2",
      "provenance": [],
      "include_colab_link": true
    },
    "kernelspec": {
      "name": "python3",
      "display_name": "Python 3"
    }
  },
  "cells": [
    {
      "cell_type": "markdown",
      "metadata": {
        "id": "view-in-github",
        "colab_type": "text"
      },
      "source": [
        "<a href=\"https://colab.research.google.com/github/PabloPerez63/03MAIR---Algoritmos-de-Optimizacion---2019/blob/master/Actividad_Guiada3_Pablo_Perez.ipynb\" target=\"_parent\"><img src=\"https://colab.research.google.com/assets/colab-badge.svg\" alt=\"Open In Colab\"/></a>"
      ]
    },
    {
      "cell_type": "code",
      "metadata": {
        "id": "vV_yV-d4PojH",
        "colab_type": "code",
        "colab": {}
      },
      "source": [
        "# AG3 - Actividad Guiada \n",
        "# Pablo Perez \n",
        "# https://colab.research.google.com/drive/1I51bgdbzigprPvsA1LpiXS5Z4me6y7-I\n",
        "\n"
      ],
      "execution_count": 0,
      "outputs": []
    },
    {
      "cell_type": "markdown",
      "metadata": {
        "id": "VnzKLOGMW6II",
        "colab_type": "text"
      },
      "source": [
        ""
      ]
    },
    {
      "cell_type": "code",
      "metadata": {
        "id": "aC-I59owW73O",
        "colab_type": "code",
        "outputId": "c48a1f99-7eac-4374-873f-c485efe5539a",
        "colab": {
          "base_uri": "https://localhost:8080/",
          "height": 121
        }
      },
      "source": [
        "!pip install request\n"
      ],
      "execution_count": 119,
      "outputs": [
        {
          "output_type": "stream",
          "text": [
            "Requirement already satisfied: request in /usr/local/lib/python3.6/dist-packages (2019.4.13)\n",
            "Requirement already satisfied: post in /usr/local/lib/python3.6/dist-packages (from request) (2019.4.13)\n",
            "Requirement already satisfied: get in /usr/local/lib/python3.6/dist-packages (from request) (2019.4.13)\n",
            "Requirement already satisfied: setuptools in /usr/local/lib/python3.6/dist-packages (from request) (41.2.0)\n",
            "Requirement already satisfied: query-string in /usr/local/lib/python3.6/dist-packages (from get->request) (2019.4.13)\n",
            "Requirement already satisfied: public in /usr/local/lib/python3.6/dist-packages (from query-string->get->request) (2019.4.13)\n"
          ],
          "name": "stdout"
        }
      ]
    },
    {
      "cell_type": "code",
      "metadata": {
        "id": "79FLq4dSXcfW",
        "colab_type": "code",
        "colab": {
          "base_uri": "https://localhost:8080/",
          "height": 35
        },
        "outputId": "dcc2ac37-caa0-40bf-c9dc-5935793def51"
      },
      "source": [
        "import urllib.request\n",
        "file= 'swiss42.tsp'\n",
        "urllib.request.urlretrieve('http://elib.zib.de/pub/mp-testdata/tsp/tsplib/tsp/swiss42.tsp',file) \n"
      ],
      "execution_count": 120,
      "outputs": [
        {
          "output_type": "execute_result",
          "data": {
            "text/plain": [
              "('swiss42.tsp', <http.client.HTTPMessage at 0x7fc8e24c0080>)"
            ]
          },
          "metadata": {
            "tags": []
          },
          "execution_count": 120
        }
      ]
    },
    {
      "cell_type": "code",
      "metadata": {
        "id": "OCL2-TD5YQ5M",
        "colab_type": "code",
        "colab": {
          "base_uri": "https://localhost:8080/",
          "height": 87
        },
        "outputId": "4bda7a39-6e98-4431-9cfe-fac4e1e7b576"
      },
      "source": [
        "!pip install tsplib95\n"
      ],
      "execution_count": 121,
      "outputs": [
        {
          "output_type": "stream",
          "text": [
            "Requirement already satisfied: tsplib95 in /usr/local/lib/python3.6/dist-packages (0.3.3)\n",
            "Requirement already satisfied: Click>=6.0 in /usr/local/lib/python3.6/dist-packages (from tsplib95) (7.0)\n",
            "Requirement already satisfied: networkx==2.1 in /usr/local/lib/python3.6/dist-packages (from tsplib95) (2.1)\n",
            "Requirement already satisfied: decorator>=4.1.0 in /usr/local/lib/python3.6/dist-packages (from networkx==2.1->tsplib95) (4.4.0)\n"
          ],
          "name": "stdout"
        }
      ]
    },
    {
      "cell_type": "code",
      "metadata": {
        "id": "EI5m-6P7o8AI",
        "colab_type": "code",
        "colab": {}
      },
      "source": [
        ""
      ],
      "execution_count": 0,
      "outputs": []
    },
    {
      "cell_type": "code",
      "metadata": {
        "id": "yIrqeZEsoYOv",
        "colab_type": "code",
        "colab": {}
      },
      "source": [
        "import tsplib95\n",
        "import random\n",
        "from math import e \n",
        " "
      ],
      "execution_count": 0,
      "outputs": []
    },
    {
      "cell_type": "code",
      "metadata": {
        "id": "J7EXq7papF5m",
        "colab_type": "code",
        "colab": {
          "base_uri": "https://localhost:8080/",
          "height": 35
        },
        "outputId": "70e96fbe-2bbc-4acf-bb8d-1980f515c39d"
      },
      "source": [
        "problem = tsplib95.load_problem(file)\n",
        "Nodos = list(problem.get_nodes())\n",
        "\n",
        "list(problem.get_nodes())\n",
        "list(problem.get_edges())\n",
        "\n",
        "\n",
        "problem.wfunc(0,3)"
      ],
      "execution_count": 171,
      "outputs": [
        {
          "output_type": "execute_result",
          "data": {
            "text/plain": [
              "23"
            ]
          },
          "metadata": {
            "tags": []
          },
          "execution_count": 171
        }
      ]
    },
    {
      "cell_type": "code",
      "metadata": {
        "id": "pTshJd2vq5iq",
        "colab_type": "code",
        "colab": {}
      },
      "source": [
        "\n",
        "\n",
        "def distancia(a,b,problem):\n",
        "   return problem.wfunc(a,b)\n",
        "\n",
        "\n",
        "def crear_solucion(Nodos):\n",
        "  solucion = [0]\n",
        "  for i in range(len(Nodos)-1):\n",
        "    solucion = solucion + [random.choice(list(set(Nodos) - set({0}) - set(solucion)))]\n",
        "  return solucion  \n",
        "\n",
        "crear_solucion(Nodos)\n",
        "\n",
        "\n"
      ],
      "execution_count": 0,
      "outputs": []
    },
    {
      "cell_type": "code",
      "metadata": {
        "id": "G4nbgJsG_apR",
        "colab_type": "code",
        "colab": {}
      },
      "source": [
        "def busqueda_aleatoria(problem,N):\n",
        "  # problem = datos del problema \n",
        "  #N = Numero de iteracciones \n",
        "\n",
        "  # Nodos   \n",
        "  Nodos = list(problem.get_nodes())\n",
        "\n",
        "  mejor_solucion =[]\n",
        "  mejor_distancia = 10e100\n",
        "\n",
        "  for i in range (N):\n",
        "    solucion = crear_solucion(Nodos)\n",
        "    distancia_solucion  = distancia_total(solucion, problem)\n",
        "\n",
        "    if distancia_solucion < mejor_distancia:\n",
        "      mejor_solucion = solucion \n",
        "      mejor_distancia = distancia_solucion\n",
        "  \n",
        "  \n",
        "    \n",
        "  print(\" La mejor solucion encontrada es \", end=\"\")\n",
        "  print(solucion)\n",
        "  print(\" con una distancia total de \", end=\"\")\n",
        "  print(mejor_distancia)\n",
        "  return mejor_solucion\n",
        "\n",
        "busqueda_aleatoria(problem,5000)"
      ],
      "execution_count": 0,
      "outputs": []
    },
    {
      "cell_type": "code",
      "metadata": {
        "id": "6jqIb43_KMBF",
        "colab_type": "code",
        "colab": {}
      },
      "source": [
        "def genera_vecina(solucion, problem):\n",
        "  # Generador de soluciones vecina 2 -opt (intercambiar dos nodos) Si hay nodos de genera (N-1)x (N-2)/2 soluciones \n",
        "  # print(solucion) \n",
        "  mejor_solucion =[]\n",
        "  mejor_distancia = 10e100\n",
        "\n",
        "  for i in range (1,len(solucion)-1):\n",
        "    for j in range (i+1,len(solucion)): \n",
        "      vecina= solucion[:i]+[solucion[j]]+ solucion[i+1:j]+solucion[i]+solucion [j+1]\n",
        "      distancia_vecina  = distancia_total(vecina, problem)\n",
        "      if distancia_vecina < mejor_distancia:\n",
        "        mejor_distancia = distancia_vecina\n",
        "        mejor_solucion =  vecina\n",
        "  return mejor_solucion\n",
        "\n",
        "busqueda_aleatoria(problem,5000)"
      ],
      "execution_count": 0,
      "outputs": []
    },
    {
      "cell_type": "code",
      "metadata": {
        "id": "lVRAU-3ERPV1",
        "colab_type": "code",
        "colab": {
          "base_uri": "https://localhost:8080/",
          "height": 346
        },
        "outputId": "ca8cc348-11b5-4494-8341-2bf51cf3d247"
      },
      "source": [
        "def busqueda_local(problem,N):\n",
        "  # problems= datos del problema \n",
        "  # N = Numero de iteraciones\n",
        "  \n",
        "  mejor_solucion =[]\n",
        "  mejor_distancia = 10e100\n",
        "  # Nodos   \n",
        "  Nodos = list(problem.get_nodes())\n",
        "  \n",
        "  solucion_referencia = crear_solucion(Nodos)\n",
        "  \n",
        "  for i in range (N):\n",
        "    vecina= genera_vecina(solucion_referencia,problem)\n",
        "    distancia_vecina  = distancia_total(vecina,problem)\n",
        "    if distancia_vecina>= mejor_distancia: \n",
        "      mejor_solucion =  vecina\n",
        "      mejor_distancia = distancia_vecina \n",
        "      solucion_referencia = vecina\n",
        "  \n",
        "    print(\" La mejor solucion encontrada es \", end=\"\")\n",
        "    print(mejor_solucion)\n",
        "    print(\" con una distancia total de \", end=\"\")\n",
        "    print(mejor_distancia)\n",
        "  return mejor_solucion\n",
        "\n",
        "busqueda_local(problem,100)\n"
      ],
      "execution_count": 174,
      "outputs": [
        {
          "output_type": "error",
          "ename": "TypeError",
          "evalue": "ignored",
          "traceback": [
            "\u001b[0;31m---------------------------------------------------------------------------\u001b[0m",
            "\u001b[0;31mTypeError\u001b[0m                                 Traceback (most recent call last)",
            "\u001b[0;32m<ipython-input-174-2e717a2f8804>\u001b[0m in \u001b[0;36m<module>\u001b[0;34m()\u001b[0m\n\u001b[1;32m     24\u001b[0m   \u001b[0;32mreturn\u001b[0m \u001b[0mmejor_solucion\u001b[0m\u001b[0;34m\u001b[0m\u001b[0;34m\u001b[0m\u001b[0m\n\u001b[1;32m     25\u001b[0m \u001b[0;34m\u001b[0m\u001b[0m\n\u001b[0;32m---> 26\u001b[0;31m \u001b[0mbusqueda_local\u001b[0m\u001b[0;34m(\u001b[0m\u001b[0mproblem\u001b[0m\u001b[0;34m,\u001b[0m\u001b[0;36m100\u001b[0m\u001b[0;34m)\u001b[0m\u001b[0;34m\u001b[0m\u001b[0;34m\u001b[0m\u001b[0m\n\u001b[0m",
            "\u001b[0;32m<ipython-input-174-2e717a2f8804>\u001b[0m in \u001b[0;36mbusqueda_local\u001b[0;34m(problem, N)\u001b[0m\n\u001b[1;32m     11\u001b[0m \u001b[0;34m\u001b[0m\u001b[0m\n\u001b[1;32m     12\u001b[0m   \u001b[0;32mfor\u001b[0m \u001b[0mi\u001b[0m \u001b[0;32min\u001b[0m \u001b[0mrange\u001b[0m \u001b[0;34m(\u001b[0m\u001b[0mN\u001b[0m\u001b[0;34m)\u001b[0m\u001b[0;34m:\u001b[0m\u001b[0;34m\u001b[0m\u001b[0;34m\u001b[0m\u001b[0m\n\u001b[0;32m---> 13\u001b[0;31m     \u001b[0mvecina\u001b[0m\u001b[0;34m=\u001b[0m \u001b[0mgenera_vecina\u001b[0m\u001b[0;34m(\u001b[0m\u001b[0msolucion_referencia\u001b[0m\u001b[0;34m,\u001b[0m\u001b[0mproblem\u001b[0m\u001b[0;34m)\u001b[0m\u001b[0;34m\u001b[0m\u001b[0;34m\u001b[0m\u001b[0m\n\u001b[0m\u001b[1;32m     14\u001b[0m     \u001b[0mdistancia_vecina\u001b[0m  \u001b[0;34m=\u001b[0m \u001b[0mdistancia_total\u001b[0m\u001b[0;34m(\u001b[0m\u001b[0mvecina\u001b[0m\u001b[0;34m,\u001b[0m\u001b[0mproblem\u001b[0m\u001b[0;34m)\u001b[0m\u001b[0;34m\u001b[0m\u001b[0;34m\u001b[0m\u001b[0m\n\u001b[1;32m     15\u001b[0m     \u001b[0;32mif\u001b[0m \u001b[0mdistancia_vecina\u001b[0m\u001b[0;34m>=\u001b[0m \u001b[0mmejor_distancia\u001b[0m\u001b[0;34m:\u001b[0m\u001b[0;34m\u001b[0m\u001b[0;34m\u001b[0m\u001b[0m\n",
            "\u001b[0;32m<ipython-input-155-cc05526c06ac>\u001b[0m in \u001b[0;36mgenera_vecina\u001b[0;34m(solucion, problem)\u001b[0m\n\u001b[1;32m      7\u001b[0m   \u001b[0;32mfor\u001b[0m \u001b[0mi\u001b[0m \u001b[0;32min\u001b[0m \u001b[0mrange\u001b[0m \u001b[0;34m(\u001b[0m\u001b[0;36m1\u001b[0m\u001b[0;34m,\u001b[0m\u001b[0mlen\u001b[0m\u001b[0;34m(\u001b[0m\u001b[0msolucion\u001b[0m\u001b[0;34m)\u001b[0m\u001b[0;34m-\u001b[0m\u001b[0;36m1\u001b[0m\u001b[0;34m)\u001b[0m\u001b[0;34m:\u001b[0m\u001b[0;34m\u001b[0m\u001b[0;34m\u001b[0m\u001b[0m\n\u001b[1;32m      8\u001b[0m     \u001b[0;32mfor\u001b[0m \u001b[0mj\u001b[0m \u001b[0;32min\u001b[0m \u001b[0mrange\u001b[0m \u001b[0;34m(\u001b[0m\u001b[0mi\u001b[0m\u001b[0;34m+\u001b[0m\u001b[0;36m1\u001b[0m\u001b[0;34m,\u001b[0m\u001b[0mlen\u001b[0m\u001b[0;34m(\u001b[0m\u001b[0msolucion\u001b[0m\u001b[0;34m)\u001b[0m\u001b[0;34m)\u001b[0m\u001b[0;34m:\u001b[0m\u001b[0;34m\u001b[0m\u001b[0;34m\u001b[0m\u001b[0m\n\u001b[0;32m----> 9\u001b[0;31m       \u001b[0mvecina\u001b[0m\u001b[0;34m=\u001b[0m \u001b[0msolucion\u001b[0m\u001b[0;34m[\u001b[0m\u001b[0;34m:\u001b[0m\u001b[0mi\u001b[0m\u001b[0;34m]\u001b[0m\u001b[0;34m+\u001b[0m\u001b[0;34m[\u001b[0m\u001b[0msolucion\u001b[0m\u001b[0;34m[\u001b[0m\u001b[0mj\u001b[0m\u001b[0;34m]\u001b[0m\u001b[0;34m]\u001b[0m\u001b[0;34m+\u001b[0m \u001b[0msolucion\u001b[0m\u001b[0;34m[\u001b[0m\u001b[0mi\u001b[0m\u001b[0;34m+\u001b[0m\u001b[0;36m1\u001b[0m\u001b[0;34m:\u001b[0m\u001b[0mj\u001b[0m\u001b[0;34m]\u001b[0m\u001b[0;34m+\u001b[0m\u001b[0msolucion\u001b[0m\u001b[0;34m[\u001b[0m\u001b[0mi\u001b[0m\u001b[0;34m]\u001b[0m\u001b[0;34m+\u001b[0m\u001b[0msolucion\u001b[0m \u001b[0;34m[\u001b[0m\u001b[0mj\u001b[0m\u001b[0;34m+\u001b[0m\u001b[0;36m1\u001b[0m\u001b[0;34m]\u001b[0m\u001b[0;34m\u001b[0m\u001b[0;34m\u001b[0m\u001b[0m\n\u001b[0m\u001b[1;32m     10\u001b[0m       \u001b[0mdistancia_vecina\u001b[0m  \u001b[0;34m=\u001b[0m \u001b[0mdistancia_total\u001b[0m\u001b[0;34m(\u001b[0m\u001b[0mvecina\u001b[0m\u001b[0;34m,\u001b[0m \u001b[0mproblem\u001b[0m\u001b[0;34m)\u001b[0m\u001b[0;34m\u001b[0m\u001b[0;34m\u001b[0m\u001b[0m\n\u001b[1;32m     11\u001b[0m       \u001b[0;32mif\u001b[0m \u001b[0mdistancia_vecina\u001b[0m \u001b[0;34m<\u001b[0m \u001b[0mmejor_distancia\u001b[0m\u001b[0;34m:\u001b[0m\u001b[0;34m\u001b[0m\u001b[0;34m\u001b[0m\u001b[0m\n",
            "\u001b[0;31mTypeError\u001b[0m: can only concatenate list (not \"int\") to list"
          ]
        }
      ]
    },
    {
      "cell_type": "code",
      "metadata": {
        "id": "G3Xkyo0WbYMO",
        "colab_type": "code",
        "colab": {}
      },
      "source": [
        "def probabilidad(T,d):\n",
        "  r=random.random()\n",
        "  \n",
        "  if r>= (e**(-1*d)/((T*.5*10**(-5)))):\n",
        "    return True\n",
        "  else:\n",
        "    return False \n",
        "  \n",
        "def bajar_temperatura(T):\n",
        "  return T*0.9\n",
        "\n",
        "\n",
        "def recocido_simulado(problem, TEMPERATURA):\n",
        "  solucion_referencia = crear_solucion(Nodos)\n",
        "  distancia_referencia  = distancia_total(vecina, problem)\n",
        "  \n",
        "  mejor_solucion =[]\n",
        "  mejor_distancia = 10e100\n",
        "  \n",
        "  while TEMPERATURA > 1:\n",
        "    vecina= genera_vecina(solucion_referencia,problem)\n",
        "    distancia_vecina  = distancia_total(vecina,problem)\n",
        "    if distancia_vecina>= mejor_distancia: \n",
        "      mejor_solucion =  vecina\n",
        "      mejor_distancia = distancia_vecina \n",
        "   \n",
        "    if distancia_vecina< mejor_distancia: \n",
        "        mejor_solucion =  vecina\n",
        "        mejor_distancia = distancia_vecina \n",
        "    \n",
        "    if distancia_vecina< distancia_referencia or probabilidad(TEMPERATURA, abs(distancia_referencia-distancia_vecina)) :\n",
        "        solucion_referencia= vecina\n",
        "        distancia_referencia=distancia_vecina\n",
        "      \n",
        "    \n",
        "    TEMPERATURA=bajar_temperatura(TEMPERATURA)  \n",
        "    \n",
        "    return mejor_solucion\n",
        "    \n",
        "recocido_simulado(problem, 1000)"
      ],
      "execution_count": 0,
      "outputs": []
    }
  ]
}